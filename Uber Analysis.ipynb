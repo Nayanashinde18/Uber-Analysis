{
 "cells": [
  {
   "cell_type": "code",
   "execution_count": 106,
   "id": "a95dcd6e",
   "metadata": {},
   "outputs": [],
   "source": [
    "import pandas as pd\n",
    "import datetime as dt\n",
    "import matplotlib.pyplot as plt\n",
    "import seaborn as sns"
   ]
  },
  {
   "cell_type": "code",
   "execution_count": 107,
   "id": "b1165ec2",
   "metadata": {},
   "outputs": [],
   "source": [
    "df=pd.read_csv(\"D:/ML/Uber Request Data.csv\")"
   ]
  },
  {
   "cell_type": "code",
   "execution_count": 108,
   "id": "393b2ba2",
   "metadata": {},
   "outputs": [
    {
     "data": {
      "text/html": [
       "<div>\n",
       "<style scoped>\n",
       "    .dataframe tbody tr th:only-of-type {\n",
       "        vertical-align: middle;\n",
       "    }\n",
       "\n",
       "    .dataframe tbody tr th {\n",
       "        vertical-align: top;\n",
       "    }\n",
       "\n",
       "    .dataframe thead th {\n",
       "        text-align: right;\n",
       "    }\n",
       "</style>\n",
       "<table border=\"1\" class=\"dataframe\">\n",
       "  <thead>\n",
       "    <tr style=\"text-align: right;\">\n",
       "      <th></th>\n",
       "      <th>Request id</th>\n",
       "      <th>Pickup point</th>\n",
       "      <th>Driver id</th>\n",
       "      <th>Status</th>\n",
       "      <th>Request timestamp</th>\n",
       "      <th>Drop timestamp</th>\n",
       "    </tr>\n",
       "  </thead>\n",
       "  <tbody>\n",
       "    <tr>\n",
       "      <th>0</th>\n",
       "      <td>619</td>\n",
       "      <td>Airport</td>\n",
       "      <td>1.0</td>\n",
       "      <td>Trip Completed</td>\n",
       "      <td>11/7/2016 11:51</td>\n",
       "      <td>11/7/2016 13:00</td>\n",
       "    </tr>\n",
       "    <tr>\n",
       "      <th>1</th>\n",
       "      <td>867</td>\n",
       "      <td>Airport</td>\n",
       "      <td>1.0</td>\n",
       "      <td>Trip Completed</td>\n",
       "      <td>11/7/2016 17:57</td>\n",
       "      <td>11/7/2016 18:47</td>\n",
       "    </tr>\n",
       "    <tr>\n",
       "      <th>2</th>\n",
       "      <td>1807</td>\n",
       "      <td>City</td>\n",
       "      <td>1.0</td>\n",
       "      <td>Trip Completed</td>\n",
       "      <td>12/7/2016 9:17</td>\n",
       "      <td>12/7/2016 9:58</td>\n",
       "    </tr>\n",
       "    <tr>\n",
       "      <th>3</th>\n",
       "      <td>2532</td>\n",
       "      <td>Airport</td>\n",
       "      <td>1.0</td>\n",
       "      <td>Trip Completed</td>\n",
       "      <td>12/7/2016 21:08</td>\n",
       "      <td>12/7/2016 22:03</td>\n",
       "    </tr>\n",
       "    <tr>\n",
       "      <th>4</th>\n",
       "      <td>3112</td>\n",
       "      <td>City</td>\n",
       "      <td>1.0</td>\n",
       "      <td>Trip Completed</td>\n",
       "      <td>13-07-2016 08:33:16</td>\n",
       "      <td>13-07-2016 09:25:47</td>\n",
       "    </tr>\n",
       "  </tbody>\n",
       "</table>\n",
       "</div>"
      ],
      "text/plain": [
       "   Request id Pickup point  Driver id          Status    Request timestamp  \\\n",
       "0         619      Airport        1.0  Trip Completed      11/7/2016 11:51   \n",
       "1         867      Airport        1.0  Trip Completed      11/7/2016 17:57   \n",
       "2        1807         City        1.0  Trip Completed       12/7/2016 9:17   \n",
       "3        2532      Airport        1.0  Trip Completed      12/7/2016 21:08   \n",
       "4        3112         City        1.0  Trip Completed  13-07-2016 08:33:16   \n",
       "\n",
       "        Drop timestamp  \n",
       "0      11/7/2016 13:00  \n",
       "1      11/7/2016 18:47  \n",
       "2       12/7/2016 9:58  \n",
       "3      12/7/2016 22:03  \n",
       "4  13-07-2016 09:25:47  "
      ]
     },
     "execution_count": 108,
     "metadata": {},
     "output_type": "execute_result"
    }
   ],
   "source": [
    "df.head()"
   ]
  },
  {
   "cell_type": "code",
   "execution_count": 109,
   "id": "7426e987",
   "metadata": {},
   "outputs": [
    {
     "data": {
      "text/plain": [
       "6745"
      ]
     },
     "execution_count": 109,
     "metadata": {},
     "output_type": "execute_result"
    }
   ],
   "source": [
    "len(df[\"Request id\"].unique())"
   ]
  },
  {
   "cell_type": "code",
   "execution_count": 110,
   "id": "5c90b14e",
   "metadata": {},
   "outputs": [
    {
     "data": {
      "text/plain": [
       "(6745, 6)"
      ]
     },
     "execution_count": 110,
     "metadata": {},
     "output_type": "execute_result"
    }
   ],
   "source": [
    "df.shape"
   ]
  },
  {
   "cell_type": "code",
   "execution_count": 111,
   "id": "ea3a02a7",
   "metadata": {
    "scrolled": true
   },
   "outputs": [
    {
     "data": {
      "text/plain": [
       "Request id              0\n",
       "Pickup point            0\n",
       "Driver id            2650\n",
       "Status                  0\n",
       "Request timestamp       0\n",
       "Drop timestamp       3914\n",
       "dtype: int64"
      ]
     },
     "execution_count": 111,
     "metadata": {},
     "output_type": "execute_result"
    }
   ],
   "source": [
    "df.isnull().sum()"
   ]
  },
  {
   "cell_type": "code",
   "execution_count": 112,
   "id": "4b891238",
   "metadata": {},
   "outputs": [
    {
     "data": {
      "text/plain": [
       "Request id            0.000000\n",
       "Pickup point          0.000000\n",
       "Driver id            39.288362\n",
       "Status                0.000000\n",
       "Request timestamp     0.000000\n",
       "Drop timestamp       58.028169\n",
       "dtype: float64"
      ]
     },
     "execution_count": 112,
     "metadata": {},
     "output_type": "execute_result"
    }
   ],
   "source": [
    "df.isnull().sum()/df.shape[0]*100"
   ]
  },
  {
   "cell_type": "code",
   "execution_count": 113,
   "id": "a48197c0",
   "metadata": {},
   "outputs": [
    {
     "name": "stdout",
     "output_type": "stream",
     "text": [
      "<class 'pandas.core.frame.DataFrame'>\n",
      "RangeIndex: 6745 entries, 0 to 6744\n",
      "Data columns (total 6 columns):\n",
      " #   Column             Non-Null Count  Dtype  \n",
      "---  ------             --------------  -----  \n",
      " 0   Request id         6745 non-null   int64  \n",
      " 1   Pickup point       6745 non-null   object \n",
      " 2   Driver id          4095 non-null   float64\n",
      " 3   Status             6745 non-null   object \n",
      " 4   Request timestamp  6745 non-null   object \n",
      " 5   Drop timestamp     2831 non-null   object \n",
      "dtypes: float64(1), int64(1), object(4)\n",
      "memory usage: 210.8+ KB\n"
     ]
    }
   ],
   "source": [
    "df.info()"
   ]
  },
  {
   "cell_type": "code",
   "execution_count": 114,
   "id": "7fb85676",
   "metadata": {},
   "outputs": [
    {
     "data": {
      "text/plain": [
       "0           11/7/2016 11:51\n",
       "1           11/7/2016 17:57\n",
       "2            12/7/2016 9:17\n",
       "3           12/7/2016 21:08\n",
       "4       13-07-2016 08:33:16\n",
       "               ...         \n",
       "6740    15-07-2016 23:49:03\n",
       "6741    15-07-2016 23:50:05\n",
       "6742    15-07-2016 23:52:06\n",
       "6743    15-07-2016 23:54:39\n",
       "6744    15-07-2016 23:55:03\n",
       "Name: Request timestamp, Length: 6745, dtype: object"
      ]
     },
     "execution_count": 114,
     "metadata": {},
     "output_type": "execute_result"
    }
   ],
   "source": [
    "df['Request timestamp'].astype(str)"
   ]
  },
  {
   "cell_type": "code",
   "execution_count": 115,
   "id": "d7773f94",
   "metadata": {},
   "outputs": [],
   "source": [
    "df['Request timestamp']=df['Request timestamp'].replace('/','-')"
   ]
  },
  {
   "cell_type": "code",
   "execution_count": 116,
   "id": "49ab3555",
   "metadata": {},
   "outputs": [],
   "source": [
    "df['Request timestamp']=pd.to_datetime(df['Request timestamp'],dayfirst=True)"
   ]
  },
  {
   "cell_type": "code",
   "execution_count": null,
   "id": "f858d7ac",
   "metadata": {},
   "outputs": [],
   "source": []
  },
  {
   "cell_type": "code",
   "execution_count": 117,
   "id": "6f9b360b",
   "metadata": {},
   "outputs": [
    {
     "data": {
      "text/plain": [
       "0      2016-07-11 11:51:00\n",
       "1      2016-07-11 17:57:00\n",
       "2      2016-07-12 09:17:00\n",
       "3      2016-07-12 21:08:00\n",
       "4      2016-07-13 08:33:16\n",
       "               ...        \n",
       "6740   2016-07-15 23:49:03\n",
       "6741   2016-07-15 23:50:05\n",
       "6742   2016-07-15 23:52:06\n",
       "6743   2016-07-15 23:54:39\n",
       "6744   2016-07-15 23:55:03\n",
       "Name: Request timestamp, Length: 6745, dtype: datetime64[ns]"
      ]
     },
     "execution_count": 117,
     "metadata": {},
     "output_type": "execute_result"
    }
   ],
   "source": [
    "df['Request timestamp']"
   ]
  },
  {
   "cell_type": "code",
   "execution_count": 118,
   "id": "2bba36c4",
   "metadata": {},
   "outputs": [],
   "source": [
    "df['Drop timestamp']=pd.to_datetime(df['Drop timestamp'],dayfirst=True)"
   ]
  },
  {
   "cell_type": "code",
   "execution_count": 119,
   "id": "7cb0ec0b",
   "metadata": {},
   "outputs": [
    {
     "data": {
      "text/plain": [
       "0      2016-07-11 13:00:00\n",
       "1      2016-07-11 18:47:00\n",
       "2      2016-07-12 09:58:00\n",
       "3      2016-07-12 22:03:00\n",
       "4      2016-07-13 09:25:47\n",
       "               ...        \n",
       "6740                   NaT\n",
       "6741                   NaT\n",
       "6742                   NaT\n",
       "6743                   NaT\n",
       "6744                   NaT\n",
       "Name: Drop timestamp, Length: 6745, dtype: datetime64[ns]"
      ]
     },
     "execution_count": 119,
     "metadata": {},
     "output_type": "execute_result"
    }
   ],
   "source": [
    "df['Drop timestamp']"
   ]
  },
  {
   "cell_type": "code",
   "execution_count": 120,
   "id": "cef06429",
   "metadata": {},
   "outputs": [
    {
     "name": "stdout",
     "output_type": "stream",
     "text": [
      "<class 'pandas.core.frame.DataFrame'>\n",
      "RangeIndex: 6745 entries, 0 to 6744\n",
      "Data columns (total 6 columns):\n",
      " #   Column             Non-Null Count  Dtype         \n",
      "---  ------             --------------  -----         \n",
      " 0   Request id         6745 non-null   int64         \n",
      " 1   Pickup point       6745 non-null   object        \n",
      " 2   Driver id          4095 non-null   float64       \n",
      " 3   Status             6745 non-null   object        \n",
      " 4   Request timestamp  6745 non-null   datetime64[ns]\n",
      " 5   Drop timestamp     2831 non-null   datetime64[ns]\n",
      "dtypes: datetime64[ns](2), float64(1), int64(1), object(2)\n",
      "memory usage: 263.5+ KB\n"
     ]
    }
   ],
   "source": [
    "df.info()"
   ]
  },
  {
   "cell_type": "code",
   "execution_count": 121,
   "id": "7523e153",
   "metadata": {},
   "outputs": [],
   "source": [
    "req_hour=df['Request timestamp'].dt.hour"
   ]
  },
  {
   "cell_type": "code",
   "execution_count": 122,
   "id": "e359585a",
   "metadata": {},
   "outputs": [
    {
     "data": {
      "text/plain": [
       "0       11\n",
       "1       17\n",
       "2        9\n",
       "3       21\n",
       "4        8\n",
       "        ..\n",
       "6740    23\n",
       "6741    23\n",
       "6742    23\n",
       "6743    23\n",
       "6744    23\n",
       "Name: Request timestamp, Length: 6745, dtype: int64"
      ]
     },
     "execution_count": 122,
     "metadata": {},
     "output_type": "execute_result"
    }
   ],
   "source": [
    "req_hour"
   ]
  },
  {
   "cell_type": "code",
   "execution_count": 123,
   "id": "fa7ef710",
   "metadata": {},
   "outputs": [],
   "source": [
    "df['req_hour']=req_hour"
   ]
  },
  {
   "cell_type": "code",
   "execution_count": 124,
   "id": "8640851b",
   "metadata": {},
   "outputs": [
    {
     "data": {
      "text/html": [
       "<div>\n",
       "<style scoped>\n",
       "    .dataframe tbody tr th:only-of-type {\n",
       "        vertical-align: middle;\n",
       "    }\n",
       "\n",
       "    .dataframe tbody tr th {\n",
       "        vertical-align: top;\n",
       "    }\n",
       "\n",
       "    .dataframe thead th {\n",
       "        text-align: right;\n",
       "    }\n",
       "</style>\n",
       "<table border=\"1\" class=\"dataframe\">\n",
       "  <thead>\n",
       "    <tr style=\"text-align: right;\">\n",
       "      <th></th>\n",
       "      <th>Request id</th>\n",
       "      <th>Pickup point</th>\n",
       "      <th>Driver id</th>\n",
       "      <th>Status</th>\n",
       "      <th>Request timestamp</th>\n",
       "      <th>Drop timestamp</th>\n",
       "      <th>req_hour</th>\n",
       "    </tr>\n",
       "  </thead>\n",
       "  <tbody>\n",
       "    <tr>\n",
       "      <th>0</th>\n",
       "      <td>619</td>\n",
       "      <td>Airport</td>\n",
       "      <td>1.0</td>\n",
       "      <td>Trip Completed</td>\n",
       "      <td>2016-07-11 11:51:00</td>\n",
       "      <td>2016-07-11 13:00:00</td>\n",
       "      <td>11</td>\n",
       "    </tr>\n",
       "    <tr>\n",
       "      <th>1</th>\n",
       "      <td>867</td>\n",
       "      <td>Airport</td>\n",
       "      <td>1.0</td>\n",
       "      <td>Trip Completed</td>\n",
       "      <td>2016-07-11 17:57:00</td>\n",
       "      <td>2016-07-11 18:47:00</td>\n",
       "      <td>17</td>\n",
       "    </tr>\n",
       "    <tr>\n",
       "      <th>2</th>\n",
       "      <td>1807</td>\n",
       "      <td>City</td>\n",
       "      <td>1.0</td>\n",
       "      <td>Trip Completed</td>\n",
       "      <td>2016-07-12 09:17:00</td>\n",
       "      <td>2016-07-12 09:58:00</td>\n",
       "      <td>9</td>\n",
       "    </tr>\n",
       "    <tr>\n",
       "      <th>3</th>\n",
       "      <td>2532</td>\n",
       "      <td>Airport</td>\n",
       "      <td>1.0</td>\n",
       "      <td>Trip Completed</td>\n",
       "      <td>2016-07-12 21:08:00</td>\n",
       "      <td>2016-07-12 22:03:00</td>\n",
       "      <td>21</td>\n",
       "    </tr>\n",
       "    <tr>\n",
       "      <th>4</th>\n",
       "      <td>3112</td>\n",
       "      <td>City</td>\n",
       "      <td>1.0</td>\n",
       "      <td>Trip Completed</td>\n",
       "      <td>2016-07-13 08:33:16</td>\n",
       "      <td>2016-07-13 09:25:47</td>\n",
       "      <td>8</td>\n",
       "    </tr>\n",
       "    <tr>\n",
       "      <th>...</th>\n",
       "      <td>...</td>\n",
       "      <td>...</td>\n",
       "      <td>...</td>\n",
       "      <td>...</td>\n",
       "      <td>...</td>\n",
       "      <td>...</td>\n",
       "      <td>...</td>\n",
       "    </tr>\n",
       "    <tr>\n",
       "      <th>6740</th>\n",
       "      <td>6745</td>\n",
       "      <td>City</td>\n",
       "      <td>NaN</td>\n",
       "      <td>No Cars Available</td>\n",
       "      <td>2016-07-15 23:49:03</td>\n",
       "      <td>NaT</td>\n",
       "      <td>23</td>\n",
       "    </tr>\n",
       "    <tr>\n",
       "      <th>6741</th>\n",
       "      <td>6752</td>\n",
       "      <td>Airport</td>\n",
       "      <td>NaN</td>\n",
       "      <td>No Cars Available</td>\n",
       "      <td>2016-07-15 23:50:05</td>\n",
       "      <td>NaT</td>\n",
       "      <td>23</td>\n",
       "    </tr>\n",
       "    <tr>\n",
       "      <th>6742</th>\n",
       "      <td>6751</td>\n",
       "      <td>City</td>\n",
       "      <td>NaN</td>\n",
       "      <td>No Cars Available</td>\n",
       "      <td>2016-07-15 23:52:06</td>\n",
       "      <td>NaT</td>\n",
       "      <td>23</td>\n",
       "    </tr>\n",
       "    <tr>\n",
       "      <th>6743</th>\n",
       "      <td>6754</td>\n",
       "      <td>City</td>\n",
       "      <td>NaN</td>\n",
       "      <td>No Cars Available</td>\n",
       "      <td>2016-07-15 23:54:39</td>\n",
       "      <td>NaT</td>\n",
       "      <td>23</td>\n",
       "    </tr>\n",
       "    <tr>\n",
       "      <th>6744</th>\n",
       "      <td>6753</td>\n",
       "      <td>Airport</td>\n",
       "      <td>NaN</td>\n",
       "      <td>No Cars Available</td>\n",
       "      <td>2016-07-15 23:55:03</td>\n",
       "      <td>NaT</td>\n",
       "      <td>23</td>\n",
       "    </tr>\n",
       "  </tbody>\n",
       "</table>\n",
       "<p>6745 rows × 7 columns</p>\n",
       "</div>"
      ],
      "text/plain": [
       "      Request id Pickup point  Driver id             Status  \\\n",
       "0            619      Airport        1.0     Trip Completed   \n",
       "1            867      Airport        1.0     Trip Completed   \n",
       "2           1807         City        1.0     Trip Completed   \n",
       "3           2532      Airport        1.0     Trip Completed   \n",
       "4           3112         City        1.0     Trip Completed   \n",
       "...          ...          ...        ...                ...   \n",
       "6740        6745         City        NaN  No Cars Available   \n",
       "6741        6752      Airport        NaN  No Cars Available   \n",
       "6742        6751         City        NaN  No Cars Available   \n",
       "6743        6754         City        NaN  No Cars Available   \n",
       "6744        6753      Airport        NaN  No Cars Available   \n",
       "\n",
       "       Request timestamp      Drop timestamp  req_hour  \n",
       "0    2016-07-11 11:51:00 2016-07-11 13:00:00        11  \n",
       "1    2016-07-11 17:57:00 2016-07-11 18:47:00        17  \n",
       "2    2016-07-12 09:17:00 2016-07-12 09:58:00         9  \n",
       "3    2016-07-12 21:08:00 2016-07-12 22:03:00        21  \n",
       "4    2016-07-13 08:33:16 2016-07-13 09:25:47         8  \n",
       "...                  ...                 ...       ...  \n",
       "6740 2016-07-15 23:49:03                 NaT        23  \n",
       "6741 2016-07-15 23:50:05                 NaT        23  \n",
       "6742 2016-07-15 23:52:06                 NaT        23  \n",
       "6743 2016-07-15 23:54:39                 NaT        23  \n",
       "6744 2016-07-15 23:55:03                 NaT        23  \n",
       "\n",
       "[6745 rows x 7 columns]"
      ]
     },
     "execution_count": 124,
     "metadata": {},
     "output_type": "execute_result"
    }
   ],
   "source": [
    "df"
   ]
  },
  {
   "cell_type": "code",
   "execution_count": 125,
   "id": "a5791624",
   "metadata": {},
   "outputs": [],
   "source": [
    "req_day=df['Request timestamp'].dt.day"
   ]
  },
  {
   "cell_type": "code",
   "execution_count": 126,
   "id": "baf1d353",
   "metadata": {},
   "outputs": [],
   "source": [
    "df['req_day']=req_day"
   ]
  },
  {
   "cell_type": "code",
   "execution_count": 127,
   "id": "f4e025a3",
   "metadata": {},
   "outputs": [
    {
     "data": {
      "text/html": [
       "<div>\n",
       "<style scoped>\n",
       "    .dataframe tbody tr th:only-of-type {\n",
       "        vertical-align: middle;\n",
       "    }\n",
       "\n",
       "    .dataframe tbody tr th {\n",
       "        vertical-align: top;\n",
       "    }\n",
       "\n",
       "    .dataframe thead th {\n",
       "        text-align: right;\n",
       "    }\n",
       "</style>\n",
       "<table border=\"1\" class=\"dataframe\">\n",
       "  <thead>\n",
       "    <tr style=\"text-align: right;\">\n",
       "      <th></th>\n",
       "      <th>Request id</th>\n",
       "      <th>Pickup point</th>\n",
       "      <th>Driver id</th>\n",
       "      <th>Status</th>\n",
       "      <th>Request timestamp</th>\n",
       "      <th>Drop timestamp</th>\n",
       "      <th>req_hour</th>\n",
       "      <th>req_day</th>\n",
       "    </tr>\n",
       "  </thead>\n",
       "  <tbody>\n",
       "    <tr>\n",
       "      <th>0</th>\n",
       "      <td>619</td>\n",
       "      <td>Airport</td>\n",
       "      <td>1.0</td>\n",
       "      <td>Trip Completed</td>\n",
       "      <td>2016-07-11 11:51:00</td>\n",
       "      <td>2016-07-11 13:00:00</td>\n",
       "      <td>11</td>\n",
       "      <td>11</td>\n",
       "    </tr>\n",
       "    <tr>\n",
       "      <th>1</th>\n",
       "      <td>867</td>\n",
       "      <td>Airport</td>\n",
       "      <td>1.0</td>\n",
       "      <td>Trip Completed</td>\n",
       "      <td>2016-07-11 17:57:00</td>\n",
       "      <td>2016-07-11 18:47:00</td>\n",
       "      <td>17</td>\n",
       "      <td>11</td>\n",
       "    </tr>\n",
       "    <tr>\n",
       "      <th>2</th>\n",
       "      <td>1807</td>\n",
       "      <td>City</td>\n",
       "      <td>1.0</td>\n",
       "      <td>Trip Completed</td>\n",
       "      <td>2016-07-12 09:17:00</td>\n",
       "      <td>2016-07-12 09:58:00</td>\n",
       "      <td>9</td>\n",
       "      <td>12</td>\n",
       "    </tr>\n",
       "    <tr>\n",
       "      <th>3</th>\n",
       "      <td>2532</td>\n",
       "      <td>Airport</td>\n",
       "      <td>1.0</td>\n",
       "      <td>Trip Completed</td>\n",
       "      <td>2016-07-12 21:08:00</td>\n",
       "      <td>2016-07-12 22:03:00</td>\n",
       "      <td>21</td>\n",
       "      <td>12</td>\n",
       "    </tr>\n",
       "    <tr>\n",
       "      <th>4</th>\n",
       "      <td>3112</td>\n",
       "      <td>City</td>\n",
       "      <td>1.0</td>\n",
       "      <td>Trip Completed</td>\n",
       "      <td>2016-07-13 08:33:16</td>\n",
       "      <td>2016-07-13 09:25:47</td>\n",
       "      <td>8</td>\n",
       "      <td>13</td>\n",
       "    </tr>\n",
       "    <tr>\n",
       "      <th>...</th>\n",
       "      <td>...</td>\n",
       "      <td>...</td>\n",
       "      <td>...</td>\n",
       "      <td>...</td>\n",
       "      <td>...</td>\n",
       "      <td>...</td>\n",
       "      <td>...</td>\n",
       "      <td>...</td>\n",
       "    </tr>\n",
       "    <tr>\n",
       "      <th>6740</th>\n",
       "      <td>6745</td>\n",
       "      <td>City</td>\n",
       "      <td>NaN</td>\n",
       "      <td>No Cars Available</td>\n",
       "      <td>2016-07-15 23:49:03</td>\n",
       "      <td>NaT</td>\n",
       "      <td>23</td>\n",
       "      <td>15</td>\n",
       "    </tr>\n",
       "    <tr>\n",
       "      <th>6741</th>\n",
       "      <td>6752</td>\n",
       "      <td>Airport</td>\n",
       "      <td>NaN</td>\n",
       "      <td>No Cars Available</td>\n",
       "      <td>2016-07-15 23:50:05</td>\n",
       "      <td>NaT</td>\n",
       "      <td>23</td>\n",
       "      <td>15</td>\n",
       "    </tr>\n",
       "    <tr>\n",
       "      <th>6742</th>\n",
       "      <td>6751</td>\n",
       "      <td>City</td>\n",
       "      <td>NaN</td>\n",
       "      <td>No Cars Available</td>\n",
       "      <td>2016-07-15 23:52:06</td>\n",
       "      <td>NaT</td>\n",
       "      <td>23</td>\n",
       "      <td>15</td>\n",
       "    </tr>\n",
       "    <tr>\n",
       "      <th>6743</th>\n",
       "      <td>6754</td>\n",
       "      <td>City</td>\n",
       "      <td>NaN</td>\n",
       "      <td>No Cars Available</td>\n",
       "      <td>2016-07-15 23:54:39</td>\n",
       "      <td>NaT</td>\n",
       "      <td>23</td>\n",
       "      <td>15</td>\n",
       "    </tr>\n",
       "    <tr>\n",
       "      <th>6744</th>\n",
       "      <td>6753</td>\n",
       "      <td>Airport</td>\n",
       "      <td>NaN</td>\n",
       "      <td>No Cars Available</td>\n",
       "      <td>2016-07-15 23:55:03</td>\n",
       "      <td>NaT</td>\n",
       "      <td>23</td>\n",
       "      <td>15</td>\n",
       "    </tr>\n",
       "  </tbody>\n",
       "</table>\n",
       "<p>6745 rows × 8 columns</p>\n",
       "</div>"
      ],
      "text/plain": [
       "      Request id Pickup point  Driver id             Status  \\\n",
       "0            619      Airport        1.0     Trip Completed   \n",
       "1            867      Airport        1.0     Trip Completed   \n",
       "2           1807         City        1.0     Trip Completed   \n",
       "3           2532      Airport        1.0     Trip Completed   \n",
       "4           3112         City        1.0     Trip Completed   \n",
       "...          ...          ...        ...                ...   \n",
       "6740        6745         City        NaN  No Cars Available   \n",
       "6741        6752      Airport        NaN  No Cars Available   \n",
       "6742        6751         City        NaN  No Cars Available   \n",
       "6743        6754         City        NaN  No Cars Available   \n",
       "6744        6753      Airport        NaN  No Cars Available   \n",
       "\n",
       "       Request timestamp      Drop timestamp  req_hour  req_day  \n",
       "0    2016-07-11 11:51:00 2016-07-11 13:00:00        11       11  \n",
       "1    2016-07-11 17:57:00 2016-07-11 18:47:00        17       11  \n",
       "2    2016-07-12 09:17:00 2016-07-12 09:58:00         9       12  \n",
       "3    2016-07-12 21:08:00 2016-07-12 22:03:00        21       12  \n",
       "4    2016-07-13 08:33:16 2016-07-13 09:25:47         8       13  \n",
       "...                  ...                 ...       ...      ...  \n",
       "6740 2016-07-15 23:49:03                 NaT        23       15  \n",
       "6741 2016-07-15 23:50:05                 NaT        23       15  \n",
       "6742 2016-07-15 23:52:06                 NaT        23       15  \n",
       "6743 2016-07-15 23:54:39                 NaT        23       15  \n",
       "6744 2016-07-15 23:55:03                 NaT        23       15  \n",
       "\n",
       "[6745 rows x 8 columns]"
      ]
     },
     "execution_count": 127,
     "metadata": {},
     "output_type": "execute_result"
    }
   ],
   "source": [
    "df"
   ]
  },
  {
   "cell_type": "code",
   "execution_count": 128,
   "id": "954d495c",
   "metadata": {},
   "outputs": [
    {
     "data": {
      "text/plain": [
       "<function matplotlib.pyplot.show(close=None, block=None)>"
      ]
     },
     "execution_count": 128,
     "metadata": {},
     "output_type": "execute_result"
    },
    {
     "data": {
      "image/png": "[encoded data removed]",
      "text/plain": [
       "<Figure size 432x288 with 1 Axes>"
      ]
     },
     "metadata": {
      "needs_background": "light"
     },
     "output_type": "display_data"
    }
   ],
   "source": [
    "sns.countplot(x='req_hour',data=df,hue='Status')\n",
    "plt.show"
   ]
  },
  {
   "cell_type": "code",
   "execution_count": 129,
   "id": "6e67681a",
   "metadata": {},
   "outputs": [
    {
     "name": "stderr",
     "output_type": "stream",
     "text": [
      "D:\\Anaconda\\lib\\site-packages\\seaborn\\categorical.py:3714: UserWarning: The `factorplot` function has been renamed to `catplot`. The original name will be removed in a future release. Please update your code. Note that the default `kind` in `factorplot` (`'point'`) has changed `'strip'` in `catplot`.\n",
      "  warnings.warn(msg)\n"
     ]
    },
    {
     "data": {
      "image/png": "[encoded data removed]",
      "text/plain": [
       "<Figure size 483.5x1800 with 5 Axes>"
      ]
     },
     "metadata": {
      "needs_background": "light"
     },
     "output_type": "display_data"
    }
   ],
   "source": [
    "sns.factorplot(x=\"req_hour\",data=df,row=\"req_day\",hue=\"Status\",kind=\"count\")\n",
    "plt.show()"
   ]
  },
  {
   "cell_type": "code",
   "execution_count": 130,
   "id": "25d2b2d7",
   "metadata": {},
   "outputs": [
    {
     "name": "stderr",
     "output_type": "stream",
     "text": [
      "D:\\Anaconda\\lib\\site-packages\\seaborn\\categorical.py:3714: UserWarning: The `factorplot` function has been renamed to `catplot`. The original name will be removed in a future release. Please update your code. Note that the default `kind` in `factorplot` (`'point'`) has changed `'strip'` in `catplot`.\n",
      "  warnings.warn(msg)\n"
     ]
    },
    {
     "data": {
      "image/png": "[encoded data removed]",
      "text/plain": [
       "<Figure size 430.125x1800 with 5 Axes>"
      ]
     },
     "metadata": {
      "needs_background": "light"
     },
     "output_type": "display_data"
    }
   ],
   "source": [
    "sns.factorplot(x='req_hour',data=df,row='req_day',hue='Pickup point',kind='count')\n",
    "plt.show()"
   ]
  },
  {
   "cell_type": "code",
   "execution_count": 131,
   "id": "f0516c0b",
   "metadata": {},
   "outputs": [
    {
     "data": {
      "text/html": [
       "<div>\n",
       "<style scoped>\n",
       "    .dataframe tbody tr th:only-of-type {\n",
       "        vertical-align: middle;\n",
       "    }\n",
       "\n",
       "    .dataframe tbody tr th {\n",
       "        vertical-align: top;\n",
       "    }\n",
       "\n",
       "    .dataframe thead th {\n",
       "        text-align: right;\n",
       "    }\n",
       "</style>\n",
       "<table border=\"1\" class=\"dataframe\">\n",
       "  <thead>\n",
       "    <tr style=\"text-align: right;\">\n",
       "      <th></th>\n",
       "      <th>Request id</th>\n",
       "      <th>Pickup point</th>\n",
       "      <th>Driver id</th>\n",
       "      <th>Status</th>\n",
       "      <th>Request timestamp</th>\n",
       "      <th>Drop timestamp</th>\n",
       "      <th>req_hour</th>\n",
       "      <th>req_day</th>\n",
       "    </tr>\n",
       "  </thead>\n",
       "  <tbody>\n",
       "    <tr>\n",
       "      <th>0</th>\n",
       "      <td>619</td>\n",
       "      <td>Airport</td>\n",
       "      <td>1.0</td>\n",
       "      <td>Trip Completed</td>\n",
       "      <td>2016-07-11 11:51:00</td>\n",
       "      <td>2016-07-11 13:00:00</td>\n",
       "      <td>11</td>\n",
       "      <td>11</td>\n",
       "    </tr>\n",
       "    <tr>\n",
       "      <th>1</th>\n",
       "      <td>867</td>\n",
       "      <td>Airport</td>\n",
       "      <td>1.0</td>\n",
       "      <td>Trip Completed</td>\n",
       "      <td>2016-07-11 17:57:00</td>\n",
       "      <td>2016-07-11 18:47:00</td>\n",
       "      <td>17</td>\n",
       "      <td>11</td>\n",
       "    </tr>\n",
       "    <tr>\n",
       "      <th>2</th>\n",
       "      <td>1807</td>\n",
       "      <td>City</td>\n",
       "      <td>1.0</td>\n",
       "      <td>Trip Completed</td>\n",
       "      <td>2016-07-12 09:17:00</td>\n",
       "      <td>2016-07-12 09:58:00</td>\n",
       "      <td>9</td>\n",
       "      <td>12</td>\n",
       "    </tr>\n",
       "    <tr>\n",
       "      <th>3</th>\n",
       "      <td>2532</td>\n",
       "      <td>Airport</td>\n",
       "      <td>1.0</td>\n",
       "      <td>Trip Completed</td>\n",
       "      <td>2016-07-12 21:08:00</td>\n",
       "      <td>2016-07-12 22:03:00</td>\n",
       "      <td>21</td>\n",
       "      <td>12</td>\n",
       "    </tr>\n",
       "    <tr>\n",
       "      <th>4</th>\n",
       "      <td>3112</td>\n",
       "      <td>City</td>\n",
       "      <td>1.0</td>\n",
       "      <td>Trip Completed</td>\n",
       "      <td>2016-07-13 08:33:16</td>\n",
       "      <td>2016-07-13 09:25:47</td>\n",
       "      <td>8</td>\n",
       "      <td>13</td>\n",
       "    </tr>\n",
       "    <tr>\n",
       "      <th>...</th>\n",
       "      <td>...</td>\n",
       "      <td>...</td>\n",
       "      <td>...</td>\n",
       "      <td>...</td>\n",
       "      <td>...</td>\n",
       "      <td>...</td>\n",
       "      <td>...</td>\n",
       "      <td>...</td>\n",
       "    </tr>\n",
       "    <tr>\n",
       "      <th>6740</th>\n",
       "      <td>6745</td>\n",
       "      <td>City</td>\n",
       "      <td>NaN</td>\n",
       "      <td>No Cars Available</td>\n",
       "      <td>2016-07-15 23:49:03</td>\n",
       "      <td>NaT</td>\n",
       "      <td>23</td>\n",
       "      <td>15</td>\n",
       "    </tr>\n",
       "    <tr>\n",
       "      <th>6741</th>\n",
       "      <td>6752</td>\n",
       "      <td>Airport</td>\n",
       "      <td>NaN</td>\n",
       "      <td>No Cars Available</td>\n",
       "      <td>2016-07-15 23:50:05</td>\n",
       "      <td>NaT</td>\n",
       "      <td>23</td>\n",
       "      <td>15</td>\n",
       "    </tr>\n",
       "    <tr>\n",
       "      <th>6742</th>\n",
       "      <td>6751</td>\n",
       "      <td>City</td>\n",
       "      <td>NaN</td>\n",
       "      <td>No Cars Available</td>\n",
       "      <td>2016-07-15 23:52:06</td>\n",
       "      <td>NaT</td>\n",
       "      <td>23</td>\n",
       "      <td>15</td>\n",
       "    </tr>\n",
       "    <tr>\n",
       "      <th>6743</th>\n",
       "      <td>6754</td>\n",
       "      <td>City</td>\n",
       "      <td>NaN</td>\n",
       "      <td>No Cars Available</td>\n",
       "      <td>2016-07-15 23:54:39</td>\n",
       "      <td>NaT</td>\n",
       "      <td>23</td>\n",
       "      <td>15</td>\n",
       "    </tr>\n",
       "    <tr>\n",
       "      <th>6744</th>\n",
       "      <td>6753</td>\n",
       "      <td>Airport</td>\n",
       "      <td>NaN</td>\n",
       "      <td>No Cars Available</td>\n",
       "      <td>2016-07-15 23:55:03</td>\n",
       "      <td>NaT</td>\n",
       "      <td>23</td>\n",
       "      <td>15</td>\n",
       "    </tr>\n",
       "  </tbody>\n",
       "</table>\n",
       "<p>6745 rows × 8 columns</p>\n",
       "</div>"
      ],
      "text/plain": [
       "      Request id Pickup point  Driver id             Status  \\\n",
       "0            619      Airport        1.0     Trip Completed   \n",
       "1            867      Airport        1.0     Trip Completed   \n",
       "2           1807         City        1.0     Trip Completed   \n",
       "3           2532      Airport        1.0     Trip Completed   \n",
       "4           3112         City        1.0     Trip Completed   \n",
       "...          ...          ...        ...                ...   \n",
       "6740        6745         City        NaN  No Cars Available   \n",
       "6741        6752      Airport        NaN  No Cars Available   \n",
       "6742        6751         City        NaN  No Cars Available   \n",
       "6743        6754         City        NaN  No Cars Available   \n",
       "6744        6753      Airport        NaN  No Cars Available   \n",
       "\n",
       "       Request timestamp      Drop timestamp  req_hour  req_day  \n",
       "0    2016-07-11 11:51:00 2016-07-11 13:00:00        11       11  \n",
       "1    2016-07-11 17:57:00 2016-07-11 18:47:00        17       11  \n",
       "2    2016-07-12 09:17:00 2016-07-12 09:58:00         9       12  \n",
       "3    2016-07-12 21:08:00 2016-07-12 22:03:00        21       12  \n",
       "4    2016-07-13 08:33:16 2016-07-13 09:25:47         8       13  \n",
       "...                  ...                 ...       ...      ...  \n",
       "6740 2016-07-15 23:49:03                 NaT        23       15  \n",
       "6741 2016-07-15 23:50:05                 NaT        23       15  \n",
       "6742 2016-07-15 23:52:06                 NaT        23       15  \n",
       "6743 2016-07-15 23:54:39                 NaT        23       15  \n",
       "6744 2016-07-15 23:55:03                 NaT        23       15  \n",
       "\n",
       "[6745 rows x 8 columns]"
      ]
     },
     "execution_count": 131,
     "metadata": {},
     "output_type": "execute_result"
    }
   ],
   "source": [
    "df"
   ]
  },
  {
   "cell_type": "code",
   "execution_count": null,
   "id": "ef30eab7",
   "metadata": {},
   "outputs": [],
   "source": []
  },
  {
   "cell_type": "code",
   "execution_count": 132,
   "id": "5d649717",
   "metadata": {},
   "outputs": [
    {
     "data": {
      "text/html": [
       "<div>\n",
       "<style scoped>\n",
       "    .dataframe tbody tr th:only-of-type {\n",
       "        vertical-align: middle;\n",
       "    }\n",
       "\n",
       "    .dataframe tbody tr th {\n",
       "        vertical-align: top;\n",
       "    }\n",
       "\n",
       "    .dataframe thead th {\n",
       "        text-align: right;\n",
       "    }\n",
       "</style>\n",
       "<table border=\"1\" class=\"dataframe\">\n",
       "  <thead>\n",
       "    <tr style=\"text-align: right;\">\n",
       "      <th></th>\n",
       "      <th>Request id</th>\n",
       "      <th>Pickup point</th>\n",
       "      <th>Driver id</th>\n",
       "      <th>Status</th>\n",
       "      <th>Request timestamp</th>\n",
       "      <th>Drop timestamp</th>\n",
       "      <th>req_hour</th>\n",
       "      <th>req_day</th>\n",
       "      <th>Timeslot</th>\n",
       "    </tr>\n",
       "  </thead>\n",
       "  <tbody>\n",
       "    <tr>\n",
       "      <th>0</th>\n",
       "      <td>619</td>\n",
       "      <td>Airport</td>\n",
       "      <td>1.0</td>\n",
       "      <td>Trip Completed</td>\n",
       "      <td>2016-07-11 11:51:00</td>\n",
       "      <td>2016-07-11 13:00:00</td>\n",
       "      <td>11</td>\n",
       "      <td>11</td>\n",
       "      <td>0</td>\n",
       "    </tr>\n",
       "    <tr>\n",
       "      <th>1</th>\n",
       "      <td>867</td>\n",
       "      <td>Airport</td>\n",
       "      <td>1.0</td>\n",
       "      <td>Trip Completed</td>\n",
       "      <td>2016-07-11 17:57:00</td>\n",
       "      <td>2016-07-11 18:47:00</td>\n",
       "      <td>17</td>\n",
       "      <td>11</td>\n",
       "      <td>0</td>\n",
       "    </tr>\n",
       "    <tr>\n",
       "      <th>2</th>\n",
       "      <td>1807</td>\n",
       "      <td>City</td>\n",
       "      <td>1.0</td>\n",
       "      <td>Trip Completed</td>\n",
       "      <td>2016-07-12 09:17:00</td>\n",
       "      <td>2016-07-12 09:58:00</td>\n",
       "      <td>9</td>\n",
       "      <td>12</td>\n",
       "      <td>0</td>\n",
       "    </tr>\n",
       "    <tr>\n",
       "      <th>3</th>\n",
       "      <td>2532</td>\n",
       "      <td>Airport</td>\n",
       "      <td>1.0</td>\n",
       "      <td>Trip Completed</td>\n",
       "      <td>2016-07-12 21:08:00</td>\n",
       "      <td>2016-07-12 22:03:00</td>\n",
       "      <td>21</td>\n",
       "      <td>12</td>\n",
       "      <td>0</td>\n",
       "    </tr>\n",
       "    <tr>\n",
       "      <th>4</th>\n",
       "      <td>3112</td>\n",
       "      <td>City</td>\n",
       "      <td>1.0</td>\n",
       "      <td>Trip Completed</td>\n",
       "      <td>2016-07-13 08:33:16</td>\n",
       "      <td>2016-07-13 09:25:47</td>\n",
       "      <td>8</td>\n",
       "      <td>13</td>\n",
       "      <td>0</td>\n",
       "    </tr>\n",
       "    <tr>\n",
       "      <th>...</th>\n",
       "      <td>...</td>\n",
       "      <td>...</td>\n",
       "      <td>...</td>\n",
       "      <td>...</td>\n",
       "      <td>...</td>\n",
       "      <td>...</td>\n",
       "      <td>...</td>\n",
       "      <td>...</td>\n",
       "      <td>...</td>\n",
       "    </tr>\n",
       "    <tr>\n",
       "      <th>6740</th>\n",
       "      <td>6745</td>\n",
       "      <td>City</td>\n",
       "      <td>NaN</td>\n",
       "      <td>No Cars Available</td>\n",
       "      <td>2016-07-15 23:49:03</td>\n",
       "      <td>NaT</td>\n",
       "      <td>23</td>\n",
       "      <td>15</td>\n",
       "      <td>0</td>\n",
       "    </tr>\n",
       "    <tr>\n",
       "      <th>6741</th>\n",
       "      <td>6752</td>\n",
       "      <td>Airport</td>\n",
       "      <td>NaN</td>\n",
       "      <td>No Cars Available</td>\n",
       "      <td>2016-07-15 23:50:05</td>\n",
       "      <td>NaT</td>\n",
       "      <td>23</td>\n",
       "      <td>15</td>\n",
       "      <td>0</td>\n",
       "    </tr>\n",
       "    <tr>\n",
       "      <th>6742</th>\n",
       "      <td>6751</td>\n",
       "      <td>City</td>\n",
       "      <td>NaN</td>\n",
       "      <td>No Cars Available</td>\n",
       "      <td>2016-07-15 23:52:06</td>\n",
       "      <td>NaT</td>\n",
       "      <td>23</td>\n",
       "      <td>15</td>\n",
       "      <td>0</td>\n",
       "    </tr>\n",
       "    <tr>\n",
       "      <th>6743</th>\n",
       "      <td>6754</td>\n",
       "      <td>City</td>\n",
       "      <td>NaN</td>\n",
       "      <td>No Cars Available</td>\n",
       "      <td>2016-07-15 23:54:39</td>\n",
       "      <td>NaT</td>\n",
       "      <td>23</td>\n",
       "      <td>15</td>\n",
       "      <td>0</td>\n",
       "    </tr>\n",
       "    <tr>\n",
       "      <th>6744</th>\n",
       "      <td>6753</td>\n",
       "      <td>Airport</td>\n",
       "      <td>NaN</td>\n",
       "      <td>No Cars Available</td>\n",
       "      <td>2016-07-15 23:55:03</td>\n",
       "      <td>NaT</td>\n",
       "      <td>23</td>\n",
       "      <td>15</td>\n",
       "      <td>0</td>\n",
       "    </tr>\n",
       "  </tbody>\n",
       "</table>\n",
       "<p>6745 rows × 9 columns</p>\n",
       "</div>"
      ],
      "text/plain": [
       "      Request id Pickup point  Driver id             Status  \\\n",
       "0            619      Airport        1.0     Trip Completed   \n",
       "1            867      Airport        1.0     Trip Completed   \n",
       "2           1807         City        1.0     Trip Completed   \n",
       "3           2532      Airport        1.0     Trip Completed   \n",
       "4           3112         City        1.0     Trip Completed   \n",
       "...          ...          ...        ...                ...   \n",
       "6740        6745         City        NaN  No Cars Available   \n",
       "6741        6752      Airport        NaN  No Cars Available   \n",
       "6742        6751         City        NaN  No Cars Available   \n",
       "6743        6754         City        NaN  No Cars Available   \n",
       "6744        6753      Airport        NaN  No Cars Available   \n",
       "\n",
       "       Request timestamp      Drop timestamp  req_hour  req_day  Timeslot  \n",
       "0    2016-07-11 11:51:00 2016-07-11 13:00:00        11       11         0  \n",
       "1    2016-07-11 17:57:00 2016-07-11 18:47:00        17       11         0  \n",
       "2    2016-07-12 09:17:00 2016-07-12 09:58:00         9       12         0  \n",
       "3    2016-07-12 21:08:00 2016-07-12 22:03:00        21       12         0  \n",
       "4    2016-07-13 08:33:16 2016-07-13 09:25:47         8       13         0  \n",
       "...                  ...                 ...       ...      ...       ...  \n",
       "6740 2016-07-15 23:49:03                 NaT        23       15         0  \n",
       "6741 2016-07-15 23:50:05                 NaT        23       15         0  \n",
       "6742 2016-07-15 23:52:06                 NaT        23       15         0  \n",
       "6743 2016-07-15 23:54:39                 NaT        23       15         0  \n",
       "6744 2016-07-15 23:55:03                 NaT        23       15         0  \n",
       "\n",
       "[6745 rows x 9 columns]"
      ]
     },
     "execution_count": 132,
     "metadata": {},
     "output_type": "execute_result"
    }
   ],
   "source": [
    "df['Timeslot']=0\n",
    "df"
   ]
  },
  {
   "cell_type": "code",
   "execution_count": 133,
   "id": "e6047ad5",
   "metadata": {},
   "outputs": [],
   "source": [
    "j=0\n",
    "for i in df[\"req_hour\"]:\n",
    "    if df.iloc[j,6]<5:\n",
    "        df.iloc[j,8]=\"Pre_Morning\"\n",
    "    elif 5<=df.iloc[j,6]<10:\n",
    "        df.iloc[j,8]=\"Morning_Rush\"\n",
    "        \n",
    "    elif 10<=df.iloc[j,6]<17:\n",
    "        df.iloc[j,8]=\"Day_Time\"\n",
    "        \n",
    "    elif 17<=df.iloc[j,6]<22:\n",
    "        df.iloc[j,8]=\"Evening_Rush\"\n",
    "    else:\n",
    "        df.iloc[j,8]=\"Late_Night\"\n",
    "    j=j+1"
   ]
  },
  {
   "cell_type": "code",
   "execution_count": 134,
   "id": "ee7596a0",
   "metadata": {},
   "outputs": [],
   "source": [
    "#<5           \"Pre_morning\"\n",
    "#5<=x<10   == \"Morning Rush\"\n",
    "#10<=x<17     'Day_time'\n",
    "#17<=x<22     \"Evening rush\"\n",
    "#else         \"Late night\""
   ]
  },
  {
   "cell_type": "code",
   "execution_count": 135,
   "id": "e36aa17a",
   "metadata": {},
   "outputs": [
    {
     "data": {
      "text/html": [
       "<div>\n",
       "<style scoped>\n",
       "    .dataframe tbody tr th:only-of-type {\n",
       "        vertical-align: middle;\n",
       "    }\n",
       "\n",
       "    .dataframe tbody tr th {\n",
       "        vertical-align: top;\n",
       "    }\n",
       "\n",
       "    .dataframe thead th {\n",
       "        text-align: right;\n",
       "    }\n",
       "</style>\n",
       "<table border=\"1\" class=\"dataframe\">\n",
       "  <thead>\n",
       "    <tr style=\"text-align: right;\">\n",
       "      <th></th>\n",
       "      <th>Request id</th>\n",
       "      <th>Pickup point</th>\n",
       "      <th>Driver id</th>\n",
       "      <th>Status</th>\n",
       "      <th>Request timestamp</th>\n",
       "      <th>Drop timestamp</th>\n",
       "      <th>req_hour</th>\n",
       "      <th>req_day</th>\n",
       "      <th>Timeslot</th>\n",
       "    </tr>\n",
       "  </thead>\n",
       "  <tbody>\n",
       "    <tr>\n",
       "      <th>0</th>\n",
       "      <td>619</td>\n",
       "      <td>Airport</td>\n",
       "      <td>1.0</td>\n",
       "      <td>Trip Completed</td>\n",
       "      <td>2016-07-11 11:51:00</td>\n",
       "      <td>2016-07-11 13:00:00</td>\n",
       "      <td>11</td>\n",
       "      <td>11</td>\n",
       "      <td>Day_Time</td>\n",
       "    </tr>\n",
       "    <tr>\n",
       "      <th>1</th>\n",
       "      <td>867</td>\n",
       "      <td>Airport</td>\n",
       "      <td>1.0</td>\n",
       "      <td>Trip Completed</td>\n",
       "      <td>2016-07-11 17:57:00</td>\n",
       "      <td>2016-07-11 18:47:00</td>\n",
       "      <td>17</td>\n",
       "      <td>11</td>\n",
       "      <td>Evening_Rush</td>\n",
       "    </tr>\n",
       "    <tr>\n",
       "      <th>2</th>\n",
       "      <td>1807</td>\n",
       "      <td>City</td>\n",
       "      <td>1.0</td>\n",
       "      <td>Trip Completed</td>\n",
       "      <td>2016-07-12 09:17:00</td>\n",
       "      <td>2016-07-12 09:58:00</td>\n",
       "      <td>9</td>\n",
       "      <td>12</td>\n",
       "      <td>Morning_Rush</td>\n",
       "    </tr>\n",
       "    <tr>\n",
       "      <th>3</th>\n",
       "      <td>2532</td>\n",
       "      <td>Airport</td>\n",
       "      <td>1.0</td>\n",
       "      <td>Trip Completed</td>\n",
       "      <td>2016-07-12 21:08:00</td>\n",
       "      <td>2016-07-12 22:03:00</td>\n",
       "      <td>21</td>\n",
       "      <td>12</td>\n",
       "      <td>Evening_Rush</td>\n",
       "    </tr>\n",
       "    <tr>\n",
       "      <th>4</th>\n",
       "      <td>3112</td>\n",
       "      <td>City</td>\n",
       "      <td>1.0</td>\n",
       "      <td>Trip Completed</td>\n",
       "      <td>2016-07-13 08:33:16</td>\n",
       "      <td>2016-07-13 09:25:47</td>\n",
       "      <td>8</td>\n",
       "      <td>13</td>\n",
       "      <td>Morning_Rush</td>\n",
       "    </tr>\n",
       "    <tr>\n",
       "      <th>...</th>\n",
       "      <td>...</td>\n",
       "      <td>...</td>\n",
       "      <td>...</td>\n",
       "      <td>...</td>\n",
       "      <td>...</td>\n",
       "      <td>...</td>\n",
       "      <td>...</td>\n",
       "      <td>...</td>\n",
       "      <td>...</td>\n",
       "    </tr>\n",
       "    <tr>\n",
       "      <th>6740</th>\n",
       "      <td>6745</td>\n",
       "      <td>City</td>\n",
       "      <td>NaN</td>\n",
       "      <td>No Cars Available</td>\n",
       "      <td>2016-07-15 23:49:03</td>\n",
       "      <td>NaT</td>\n",
       "      <td>23</td>\n",
       "      <td>15</td>\n",
       "      <td>Late_Night</td>\n",
       "    </tr>\n",
       "    <tr>\n",
       "      <th>6741</th>\n",
       "      <td>6752</td>\n",
       "      <td>Airport</td>\n",
       "      <td>NaN</td>\n",
       "      <td>No Cars Available</td>\n",
       "      <td>2016-07-15 23:50:05</td>\n",
       "      <td>NaT</td>\n",
       "      <td>23</td>\n",
       "      <td>15</td>\n",
       "      <td>Late_Night</td>\n",
       "    </tr>\n",
       "    <tr>\n",
       "      <th>6742</th>\n",
       "      <td>6751</td>\n",
       "      <td>City</td>\n",
       "      <td>NaN</td>\n",
       "      <td>No Cars Available</td>\n",
       "      <td>2016-07-15 23:52:06</td>\n",
       "      <td>NaT</td>\n",
       "      <td>23</td>\n",
       "      <td>15</td>\n",
       "      <td>Late_Night</td>\n",
       "    </tr>\n",
       "    <tr>\n",
       "      <th>6743</th>\n",
       "      <td>6754</td>\n",
       "      <td>City</td>\n",
       "      <td>NaN</td>\n",
       "      <td>No Cars Available</td>\n",
       "      <td>2016-07-15 23:54:39</td>\n",
       "      <td>NaT</td>\n",
       "      <td>23</td>\n",
       "      <td>15</td>\n",
       "      <td>Late_Night</td>\n",
       "    </tr>\n",
       "    <tr>\n",
       "      <th>6744</th>\n",
       "      <td>6753</td>\n",
       "      <td>Airport</td>\n",
       "      <td>NaN</td>\n",
       "      <td>No Cars Available</td>\n",
       "      <td>2016-07-15 23:55:03</td>\n",
       "      <td>NaT</td>\n",
       "      <td>23</td>\n",
       "      <td>15</td>\n",
       "      <td>Late_Night</td>\n",
       "    </tr>\n",
       "  </tbody>\n",
       "</table>\n",
       "<p>6745 rows × 9 columns</p>\n",
       "</div>"
      ],
      "text/plain": [
       "      Request id Pickup point  Driver id             Status  \\\n",
       "0            619      Airport        1.0     Trip Completed   \n",
       "1            867      Airport        1.0     Trip Completed   \n",
       "2           1807         City        1.0     Trip Completed   \n",
       "3           2532      Airport        1.0     Trip Completed   \n",
       "4           3112         City        1.0     Trip Completed   \n",
       "...          ...          ...        ...                ...   \n",
       "6740        6745         City        NaN  No Cars Available   \n",
       "6741        6752      Airport        NaN  No Cars Available   \n",
       "6742        6751         City        NaN  No Cars Available   \n",
       "6743        6754         City        NaN  No Cars Available   \n",
       "6744        6753      Airport        NaN  No Cars Available   \n",
       "\n",
       "       Request timestamp      Drop timestamp  req_hour  req_day      Timeslot  \n",
       "0    2016-07-11 11:51:00 2016-07-11 13:00:00        11       11      Day_Time  \n",
       "1    2016-07-11 17:57:00 2016-07-11 18:47:00        17       11  Evening_Rush  \n",
       "2    2016-07-12 09:17:00 2016-07-12 09:58:00         9       12  Morning_Rush  \n",
       "3    2016-07-12 21:08:00 2016-07-12 22:03:00        21       12  Evening_Rush  \n",
       "4    2016-07-13 08:33:16 2016-07-13 09:25:47         8       13  Morning_Rush  \n",
       "...                  ...                 ...       ...      ...           ...  \n",
       "6740 2016-07-15 23:49:03                 NaT        23       15    Late_Night  \n",
       "6741 2016-07-15 23:50:05                 NaT        23       15    Late_Night  \n",
       "6742 2016-07-15 23:52:06                 NaT        23       15    Late_Night  \n",
       "6743 2016-07-15 23:54:39                 NaT        23       15    Late_Night  \n",
       "6744 2016-07-15 23:55:03                 NaT        23       15    Late_Night  \n",
       "\n",
       "[6745 rows x 9 columns]"
      ]
     },
     "execution_count": 135,
     "metadata": {},
     "output_type": "execute_result"
    }
   ],
   "source": [
    "df"
   ]
  },
  {
   "cell_type": "code",
   "execution_count": 136,
   "id": "29061476",
   "metadata": {},
   "outputs": [
    {
     "data": {
      "text/plain": [
       "Evening_Rush    2342\n",
       "Morning_Rush    2103\n",
       "Day_Time        1224\n",
       "Pre_Morning      578\n",
       "Late_Night       498\n",
       "Name: Timeslot, dtype: int64"
      ]
     },
     "execution_count": 136,
     "metadata": {},
     "output_type": "execute_result"
    }
   ],
   "source": [
    "df['Timeslot'].value_counts()"
   ]
  },
  {
   "cell_type": "code",
   "execution_count": 137,
   "id": "6bf06fa4",
   "metadata": {},
   "outputs": [
    {
     "data": {
      "image/png": "[encoded data removed]",
      "text/plain": [
       "<Figure size 432x288 with 1 Axes>"
      ]
     },
     "metadata": {
      "needs_background": "light"
     },
     "output_type": "display_data"
    }
   ],
   "source": [
    "sns.countplot(x='Timeslot',hue='Status',data=df)\n",
    "plt.show()"
   ]
  },
  {
   "cell_type": "code",
   "execution_count": 138,
   "id": "bb85b063",
   "metadata": {},
   "outputs": [],
   "source": [
    "df_morning_rush=df[df['Timeslot']=='Morning_Rush']"
   ]
  },
  {
   "cell_type": "code",
   "execution_count": 139,
   "id": "f7572f8f",
   "metadata": {},
   "outputs": [
    {
     "data": {
      "text/html": [
       "<div>\n",
       "<style scoped>\n",
       "    .dataframe tbody tr th:only-of-type {\n",
       "        vertical-align: middle;\n",
       "    }\n",
       "\n",
       "    .dataframe tbody tr th {\n",
       "        vertical-align: top;\n",
       "    }\n",
       "\n",
       "    .dataframe thead th {\n",
       "        text-align: right;\n",
       "    }\n",
       "</style>\n",
       "<table border=\"1\" class=\"dataframe\">\n",
       "  <thead>\n",
       "    <tr style=\"text-align: right;\">\n",
       "      <th></th>\n",
       "      <th>Request id</th>\n",
       "      <th>Pickup point</th>\n",
       "      <th>Driver id</th>\n",
       "      <th>Status</th>\n",
       "      <th>Request timestamp</th>\n",
       "      <th>Drop timestamp</th>\n",
       "      <th>req_hour</th>\n",
       "      <th>req_day</th>\n",
       "      <th>Timeslot</th>\n",
       "    </tr>\n",
       "  </thead>\n",
       "  <tbody>\n",
       "    <tr>\n",
       "      <th>2</th>\n",
       "      <td>1807</td>\n",
       "      <td>City</td>\n",
       "      <td>1.0</td>\n",
       "      <td>Trip Completed</td>\n",
       "      <td>2016-07-12 09:17:00</td>\n",
       "      <td>2016-07-12 09:58:00</td>\n",
       "      <td>9</td>\n",
       "      <td>12</td>\n",
       "      <td>Morning_Rush</td>\n",
       "    </tr>\n",
       "    <tr>\n",
       "      <th>4</th>\n",
       "      <td>3112</td>\n",
       "      <td>City</td>\n",
       "      <td>1.0</td>\n",
       "      <td>Trip Completed</td>\n",
       "      <td>2016-07-13 08:33:16</td>\n",
       "      <td>2016-07-13 09:25:47</td>\n",
       "      <td>8</td>\n",
       "      <td>13</td>\n",
       "      <td>Morning_Rush</td>\n",
       "    </tr>\n",
       "    <tr>\n",
       "      <th>6</th>\n",
       "      <td>4270</td>\n",
       "      <td>Airport</td>\n",
       "      <td>1.0</td>\n",
       "      <td>Trip Completed</td>\n",
       "      <td>2016-07-14 06:15:32</td>\n",
       "      <td>2016-07-14 07:13:15</td>\n",
       "      <td>6</td>\n",
       "      <td>14</td>\n",
       "      <td>Morning_Rush</td>\n",
       "    </tr>\n",
       "    <tr>\n",
       "      <th>7</th>\n",
       "      <td>5510</td>\n",
       "      <td>Airport</td>\n",
       "      <td>1.0</td>\n",
       "      <td>Trip Completed</td>\n",
       "      <td>2016-07-15 05:11:52</td>\n",
       "      <td>2016-07-15 06:07:52</td>\n",
       "      <td>5</td>\n",
       "      <td>15</td>\n",
       "      <td>Morning_Rush</td>\n",
       "    </tr>\n",
       "    <tr>\n",
       "      <th>9</th>\n",
       "      <td>267</td>\n",
       "      <td>City</td>\n",
       "      <td>2.0</td>\n",
       "      <td>Trip Completed</td>\n",
       "      <td>2016-07-11 06:46:00</td>\n",
       "      <td>2016-07-11 07:25:00</td>\n",
       "      <td>6</td>\n",
       "      <td>11</td>\n",
       "      <td>Morning_Rush</td>\n",
       "    </tr>\n",
       "    <tr>\n",
       "      <th>...</th>\n",
       "      <td>...</td>\n",
       "      <td>...</td>\n",
       "      <td>...</td>\n",
       "      <td>...</td>\n",
       "      <td>...</td>\n",
       "      <td>...</td>\n",
       "      <td>...</td>\n",
       "      <td>...</td>\n",
       "      <td>...</td>\n",
       "    </tr>\n",
       "    <tr>\n",
       "      <th>6307</th>\n",
       "      <td>5863</td>\n",
       "      <td>City</td>\n",
       "      <td>NaN</td>\n",
       "      <td>No Cars Available</td>\n",
       "      <td>2016-07-15 09:15:16</td>\n",
       "      <td>NaT</td>\n",
       "      <td>9</td>\n",
       "      <td>15</td>\n",
       "      <td>Morning_Rush</td>\n",
       "    </tr>\n",
       "    <tr>\n",
       "      <th>6308</th>\n",
       "      <td>5882</td>\n",
       "      <td>City</td>\n",
       "      <td>NaN</td>\n",
       "      <td>No Cars Available</td>\n",
       "      <td>2016-07-15 09:32:02</td>\n",
       "      <td>NaT</td>\n",
       "      <td>9</td>\n",
       "      <td>15</td>\n",
       "      <td>Morning_Rush</td>\n",
       "    </tr>\n",
       "    <tr>\n",
       "      <th>6309</th>\n",
       "      <td>5885</td>\n",
       "      <td>City</td>\n",
       "      <td>NaN</td>\n",
       "      <td>No Cars Available</td>\n",
       "      <td>2016-07-15 09:34:14</td>\n",
       "      <td>NaT</td>\n",
       "      <td>9</td>\n",
       "      <td>15</td>\n",
       "      <td>Morning_Rush</td>\n",
       "    </tr>\n",
       "    <tr>\n",
       "      <th>6310</th>\n",
       "      <td>5881</td>\n",
       "      <td>City</td>\n",
       "      <td>NaN</td>\n",
       "      <td>No Cars Available</td>\n",
       "      <td>2016-07-15 09:36:17</td>\n",
       "      <td>NaT</td>\n",
       "      <td>9</td>\n",
       "      <td>15</td>\n",
       "      <td>Morning_Rush</td>\n",
       "    </tr>\n",
       "    <tr>\n",
       "      <th>6311</th>\n",
       "      <td>5889</td>\n",
       "      <td>City</td>\n",
       "      <td>NaN</td>\n",
       "      <td>No Cars Available</td>\n",
       "      <td>2016-07-15 09:38:50</td>\n",
       "      <td>NaT</td>\n",
       "      <td>9</td>\n",
       "      <td>15</td>\n",
       "      <td>Morning_Rush</td>\n",
       "    </tr>\n",
       "  </tbody>\n",
       "</table>\n",
       "<p>2103 rows × 9 columns</p>\n",
       "</div>"
      ],
      "text/plain": [
       "      Request id Pickup point  Driver id             Status  \\\n",
       "2           1807         City        1.0     Trip Completed   \n",
       "4           3112         City        1.0     Trip Completed   \n",
       "6           4270      Airport        1.0     Trip Completed   \n",
       "7           5510      Airport        1.0     Trip Completed   \n",
       "9            267         City        2.0     Trip Completed   \n",
       "...          ...          ...        ...                ...   \n",
       "6307        5863         City        NaN  No Cars Available   \n",
       "6308        5882         City        NaN  No Cars Available   \n",
       "6309        5885         City        NaN  No Cars Available   \n",
       "6310        5881         City        NaN  No Cars Available   \n",
       "6311        5889         City        NaN  No Cars Available   \n",
       "\n",
       "       Request timestamp      Drop timestamp  req_hour  req_day      Timeslot  \n",
       "2    2016-07-12 09:17:00 2016-07-12 09:58:00         9       12  Morning_Rush  \n",
       "4    2016-07-13 08:33:16 2016-07-13 09:25:47         8       13  Morning_Rush  \n",
       "6    2016-07-14 06:15:32 2016-07-14 07:13:15         6       14  Morning_Rush  \n",
       "7    2016-07-15 05:11:52 2016-07-15 06:07:52         5       15  Morning_Rush  \n",
       "9    2016-07-11 06:46:00 2016-07-11 07:25:00         6       11  Morning_Rush  \n",
       "...                  ...                 ...       ...      ...           ...  \n",
       "6307 2016-07-15 09:15:16                 NaT         9       15  Morning_Rush  \n",
       "6308 2016-07-15 09:32:02                 NaT         9       15  Morning_Rush  \n",
       "6309 2016-07-15 09:34:14                 NaT         9       15  Morning_Rush  \n",
       "6310 2016-07-15 09:36:17                 NaT         9       15  Morning_Rush  \n",
       "6311 2016-07-15 09:38:50                 NaT         9       15  Morning_Rush  \n",
       "\n",
       "[2103 rows x 9 columns]"
      ]
     },
     "execution_count": 139,
     "metadata": {},
     "output_type": "execute_result"
    }
   ],
   "source": [
    "df_morning_rush"
   ]
  },
  {
   "cell_type": "code",
   "execution_count": 140,
   "id": "48b897bf",
   "metadata": {},
   "outputs": [
    {
     "data": {
      "image/png": "[encoded data removed]",
      "text/plain": [
       "<Figure size 432x288 with 1 Axes>"
      ]
     },
     "metadata": {
      "needs_background": "light"
     },
     "output_type": "display_data"
    }
   ],
   "source": [
    "sns.countplot(x='Pickup point',hue='Status',data=df)\n",
    "plt.show()"
   ]
  },
  {
   "cell_type": "markdown",
   "id": "aeefe79e",
   "metadata": {},
   "source": [
    "# Severity of problem by location and their count (cancellation of cab as per the pickup location at morning rush hours)"
   ]
  },
  {
   "cell_type": "code",
   "execution_count": 141,
   "id": "12b25373",
   "metadata": {},
   "outputs": [],
   "source": [
    "df_airport_cancelled=df_morning_rush.loc[(df_morning_rush[\"Pickup point\"]==\"Airport\") & (df_morning_rush[\"Status\"]==\"Cancelled\")]"
   ]
  },
  {
   "cell_type": "code",
   "execution_count": 142,
   "id": "da65f2b2",
   "metadata": {},
   "outputs": [
    {
     "data": {
      "text/plain": [
       "23"
      ]
     },
     "execution_count": 142,
     "metadata": {},
     "output_type": "execute_result"
    }
   ],
   "source": [
    "df_airport_cancelled.shape[0]"
   ]
  },
  {
   "cell_type": "code",
   "execution_count": 143,
   "id": "93446942",
   "metadata": {},
   "outputs": [
    {
     "data": {
      "text/html": [
       "<div>\n",
       "<style scoped>\n",
       "    .dataframe tbody tr th:only-of-type {\n",
       "        vertical-align: middle;\n",
       "    }\n",
       "\n",
       "    .dataframe tbody tr th {\n",
       "        vertical-align: top;\n",
       "    }\n",
       "\n",
       "    .dataframe thead th {\n",
       "        text-align: right;\n",
       "    }\n",
       "</style>\n",
       "<table border=\"1\" class=\"dataframe\">\n",
       "  <thead>\n",
       "    <tr style=\"text-align: right;\">\n",
       "      <th></th>\n",
       "      <th>Request id</th>\n",
       "      <th>Pickup point</th>\n",
       "      <th>Driver id</th>\n",
       "      <th>Status</th>\n",
       "      <th>Request timestamp</th>\n",
       "      <th>Drop timestamp</th>\n",
       "      <th>req_hour</th>\n",
       "      <th>req_day</th>\n",
       "      <th>Timeslot</th>\n",
       "    </tr>\n",
       "  </thead>\n",
       "  <tbody>\n",
       "    <tr>\n",
       "      <th>0</th>\n",
       "      <td>619</td>\n",
       "      <td>Airport</td>\n",
       "      <td>1.0</td>\n",
       "      <td>Trip Completed</td>\n",
       "      <td>2016-07-11 11:51:00</td>\n",
       "      <td>2016-07-11 13:00:00</td>\n",
       "      <td>11</td>\n",
       "      <td>11</td>\n",
       "      <td>Day_Time</td>\n",
       "    </tr>\n",
       "    <tr>\n",
       "      <th>1</th>\n",
       "      <td>867</td>\n",
       "      <td>Airport</td>\n",
       "      <td>1.0</td>\n",
       "      <td>Trip Completed</td>\n",
       "      <td>2016-07-11 17:57:00</td>\n",
       "      <td>2016-07-11 18:47:00</td>\n",
       "      <td>17</td>\n",
       "      <td>11</td>\n",
       "      <td>Evening_Rush</td>\n",
       "    </tr>\n",
       "    <tr>\n",
       "      <th>2</th>\n",
       "      <td>1807</td>\n",
       "      <td>City</td>\n",
       "      <td>1.0</td>\n",
       "      <td>Trip Completed</td>\n",
       "      <td>2016-07-12 09:17:00</td>\n",
       "      <td>2016-07-12 09:58:00</td>\n",
       "      <td>9</td>\n",
       "      <td>12</td>\n",
       "      <td>Morning_Rush</td>\n",
       "    </tr>\n",
       "    <tr>\n",
       "      <th>3</th>\n",
       "      <td>2532</td>\n",
       "      <td>Airport</td>\n",
       "      <td>1.0</td>\n",
       "      <td>Trip Completed</td>\n",
       "      <td>2016-07-12 21:08:00</td>\n",
       "      <td>2016-07-12 22:03:00</td>\n",
       "      <td>21</td>\n",
       "      <td>12</td>\n",
       "      <td>Evening_Rush</td>\n",
       "    </tr>\n",
       "    <tr>\n",
       "      <th>4</th>\n",
       "      <td>3112</td>\n",
       "      <td>City</td>\n",
       "      <td>1.0</td>\n",
       "      <td>Trip Completed</td>\n",
       "      <td>2016-07-13 08:33:16</td>\n",
       "      <td>2016-07-13 09:25:47</td>\n",
       "      <td>8</td>\n",
       "      <td>13</td>\n",
       "      <td>Morning_Rush</td>\n",
       "    </tr>\n",
       "    <tr>\n",
       "      <th>...</th>\n",
       "      <td>...</td>\n",
       "      <td>...</td>\n",
       "      <td>...</td>\n",
       "      <td>...</td>\n",
       "      <td>...</td>\n",
       "      <td>...</td>\n",
       "      <td>...</td>\n",
       "      <td>...</td>\n",
       "      <td>...</td>\n",
       "    </tr>\n",
       "    <tr>\n",
       "      <th>6740</th>\n",
       "      <td>6745</td>\n",
       "      <td>City</td>\n",
       "      <td>NaN</td>\n",
       "      <td>No Cars Available</td>\n",
       "      <td>2016-07-15 23:49:03</td>\n",
       "      <td>NaT</td>\n",
       "      <td>23</td>\n",
       "      <td>15</td>\n",
       "      <td>Late_Night</td>\n",
       "    </tr>\n",
       "    <tr>\n",
       "      <th>6741</th>\n",
       "      <td>6752</td>\n",
       "      <td>Airport</td>\n",
       "      <td>NaN</td>\n",
       "      <td>No Cars Available</td>\n",
       "      <td>2016-07-15 23:50:05</td>\n",
       "      <td>NaT</td>\n",
       "      <td>23</td>\n",
       "      <td>15</td>\n",
       "      <td>Late_Night</td>\n",
       "    </tr>\n",
       "    <tr>\n",
       "      <th>6742</th>\n",
       "      <td>6751</td>\n",
       "      <td>City</td>\n",
       "      <td>NaN</td>\n",
       "      <td>No Cars Available</td>\n",
       "      <td>2016-07-15 23:52:06</td>\n",
       "      <td>NaT</td>\n",
       "      <td>23</td>\n",
       "      <td>15</td>\n",
       "      <td>Late_Night</td>\n",
       "    </tr>\n",
       "    <tr>\n",
       "      <th>6743</th>\n",
       "      <td>6754</td>\n",
       "      <td>City</td>\n",
       "      <td>NaN</td>\n",
       "      <td>No Cars Available</td>\n",
       "      <td>2016-07-15 23:54:39</td>\n",
       "      <td>NaT</td>\n",
       "      <td>23</td>\n",
       "      <td>15</td>\n",
       "      <td>Late_Night</td>\n",
       "    </tr>\n",
       "    <tr>\n",
       "      <th>6744</th>\n",
       "      <td>6753</td>\n",
       "      <td>Airport</td>\n",
       "      <td>NaN</td>\n",
       "      <td>No Cars Available</td>\n",
       "      <td>2016-07-15 23:55:03</td>\n",
       "      <td>NaT</td>\n",
       "      <td>23</td>\n",
       "      <td>15</td>\n",
       "      <td>Late_Night</td>\n",
       "    </tr>\n",
       "  </tbody>\n",
       "</table>\n",
       "<p>6745 rows × 9 columns</p>\n",
       "</div>"
      ],
      "text/plain": [
       "      Request id Pickup point  Driver id             Status  \\\n",
       "0            619      Airport        1.0     Trip Completed   \n",
       "1            867      Airport        1.0     Trip Completed   \n",
       "2           1807         City        1.0     Trip Completed   \n",
       "3           2532      Airport        1.0     Trip Completed   \n",
       "4           3112         City        1.0     Trip Completed   \n",
       "...          ...          ...        ...                ...   \n",
       "6740        6745         City        NaN  No Cars Available   \n",
       "6741        6752      Airport        NaN  No Cars Available   \n",
       "6742        6751         City        NaN  No Cars Available   \n",
       "6743        6754         City        NaN  No Cars Available   \n",
       "6744        6753      Airport        NaN  No Cars Available   \n",
       "\n",
       "       Request timestamp      Drop timestamp  req_hour  req_day      Timeslot  \n",
       "0    2016-07-11 11:51:00 2016-07-11 13:00:00        11       11      Day_Time  \n",
       "1    2016-07-11 17:57:00 2016-07-11 18:47:00        17       11  Evening_Rush  \n",
       "2    2016-07-12 09:17:00 2016-07-12 09:58:00         9       12  Morning_Rush  \n",
       "3    2016-07-12 21:08:00 2016-07-12 22:03:00        21       12  Evening_Rush  \n",
       "4    2016-07-13 08:33:16 2016-07-13 09:25:47         8       13  Morning_Rush  \n",
       "...                  ...                 ...       ...      ...           ...  \n",
       "6740 2016-07-15 23:49:03                 NaT        23       15    Late_Night  \n",
       "6741 2016-07-15 23:50:05                 NaT        23       15    Late_Night  \n",
       "6742 2016-07-15 23:52:06                 NaT        23       15    Late_Night  \n",
       "6743 2016-07-15 23:54:39                 NaT        23       15    Late_Night  \n",
       "6744 2016-07-15 23:55:03                 NaT        23       15    Late_Night  \n",
       "\n",
       "[6745 rows x 9 columns]"
      ]
     },
     "execution_count": 143,
     "metadata": {},
     "output_type": "execute_result"
    }
   ],
   "source": [
    "df"
   ]
  },
  {
   "cell_type": "code",
   "execution_count": 144,
   "id": "5e911e78",
   "metadata": {},
   "outputs": [],
   "source": [
    "df_city_cancelled=df_morning_rush.loc[(df_morning_rush[\"Pickup point\"]==\"City\") & (df_morning_rush[\"Status\"]==\"Cancelled\")]"
   ]
  },
  {
   "cell_type": "code",
   "execution_count": 145,
   "id": "b6a984ee",
   "metadata": {},
   "outputs": [
    {
     "data": {
      "text/plain": [
       "820"
      ]
     },
     "execution_count": 145,
     "metadata": {},
     "output_type": "execute_result"
    }
   ],
   "source": [
    "df_city_cancelled.shape[0]"
   ]
  },
  {
   "cell_type": "markdown",
   "id": "2bd5dba8",
   "metadata": {},
   "source": [
    "# Supply and demand"
   ]
  },
  {
   "cell_type": "code",
   "execution_count": 146,
   "id": "cd9cfed4",
   "metadata": {},
   "outputs": [
    {
     "data": {
      "text/html": [
       "<div>\n",
       "<style scoped>\n",
       "    .dataframe tbody tr th:only-of-type {\n",
       "        vertical-align: middle;\n",
       "    }\n",
       "\n",
       "    .dataframe tbody tr th {\n",
       "        vertical-align: top;\n",
       "    }\n",
       "\n",
       "    .dataframe thead th {\n",
       "        text-align: right;\n",
       "    }\n",
       "</style>\n",
       "<table border=\"1\" class=\"dataframe\">\n",
       "  <thead>\n",
       "    <tr style=\"text-align: right;\">\n",
       "      <th></th>\n",
       "      <th>Request id</th>\n",
       "      <th>Pickup point</th>\n",
       "      <th>Driver id</th>\n",
       "      <th>Status</th>\n",
       "      <th>Request timestamp</th>\n",
       "      <th>Drop timestamp</th>\n",
       "      <th>req_hour</th>\n",
       "      <th>req_day</th>\n",
       "      <th>Timeslot</th>\n",
       "    </tr>\n",
       "  </thead>\n",
       "  <tbody>\n",
       "    <tr>\n",
       "      <th>2</th>\n",
       "      <td>1807</td>\n",
       "      <td>City</td>\n",
       "      <td>1.0</td>\n",
       "      <td>Trip Completed</td>\n",
       "      <td>2016-07-12 09:17:00</td>\n",
       "      <td>2016-07-12 09:58:00</td>\n",
       "      <td>9</td>\n",
       "      <td>12</td>\n",
       "      <td>Morning_Rush</td>\n",
       "    </tr>\n",
       "    <tr>\n",
       "      <th>4</th>\n",
       "      <td>3112</td>\n",
       "      <td>City</td>\n",
       "      <td>1.0</td>\n",
       "      <td>Trip Completed</td>\n",
       "      <td>2016-07-13 08:33:16</td>\n",
       "      <td>2016-07-13 09:25:47</td>\n",
       "      <td>8</td>\n",
       "      <td>13</td>\n",
       "      <td>Morning_Rush</td>\n",
       "    </tr>\n",
       "    <tr>\n",
       "      <th>6</th>\n",
       "      <td>4270</td>\n",
       "      <td>Airport</td>\n",
       "      <td>1.0</td>\n",
       "      <td>Trip Completed</td>\n",
       "      <td>2016-07-14 06:15:32</td>\n",
       "      <td>2016-07-14 07:13:15</td>\n",
       "      <td>6</td>\n",
       "      <td>14</td>\n",
       "      <td>Morning_Rush</td>\n",
       "    </tr>\n",
       "    <tr>\n",
       "      <th>7</th>\n",
       "      <td>5510</td>\n",
       "      <td>Airport</td>\n",
       "      <td>1.0</td>\n",
       "      <td>Trip Completed</td>\n",
       "      <td>2016-07-15 05:11:52</td>\n",
       "      <td>2016-07-15 06:07:52</td>\n",
       "      <td>5</td>\n",
       "      <td>15</td>\n",
       "      <td>Morning_Rush</td>\n",
       "    </tr>\n",
       "    <tr>\n",
       "      <th>9</th>\n",
       "      <td>267</td>\n",
       "      <td>City</td>\n",
       "      <td>2.0</td>\n",
       "      <td>Trip Completed</td>\n",
       "      <td>2016-07-11 06:46:00</td>\n",
       "      <td>2016-07-11 07:25:00</td>\n",
       "      <td>6</td>\n",
       "      <td>11</td>\n",
       "      <td>Morning_Rush</td>\n",
       "    </tr>\n",
       "    <tr>\n",
       "      <th>...</th>\n",
       "      <td>...</td>\n",
       "      <td>...</td>\n",
       "      <td>...</td>\n",
       "      <td>...</td>\n",
       "      <td>...</td>\n",
       "      <td>...</td>\n",
       "      <td>...</td>\n",
       "      <td>...</td>\n",
       "      <td>...</td>\n",
       "    </tr>\n",
       "    <tr>\n",
       "      <th>6307</th>\n",
       "      <td>5863</td>\n",
       "      <td>City</td>\n",
       "      <td>NaN</td>\n",
       "      <td>No Cars Available</td>\n",
       "      <td>2016-07-15 09:15:16</td>\n",
       "      <td>NaT</td>\n",
       "      <td>9</td>\n",
       "      <td>15</td>\n",
       "      <td>Morning_Rush</td>\n",
       "    </tr>\n",
       "    <tr>\n",
       "      <th>6308</th>\n",
       "      <td>5882</td>\n",
       "      <td>City</td>\n",
       "      <td>NaN</td>\n",
       "      <td>No Cars Available</td>\n",
       "      <td>2016-07-15 09:32:02</td>\n",
       "      <td>NaT</td>\n",
       "      <td>9</td>\n",
       "      <td>15</td>\n",
       "      <td>Morning_Rush</td>\n",
       "    </tr>\n",
       "    <tr>\n",
       "      <th>6309</th>\n",
       "      <td>5885</td>\n",
       "      <td>City</td>\n",
       "      <td>NaN</td>\n",
       "      <td>No Cars Available</td>\n",
       "      <td>2016-07-15 09:34:14</td>\n",
       "      <td>NaT</td>\n",
       "      <td>9</td>\n",
       "      <td>15</td>\n",
       "      <td>Morning_Rush</td>\n",
       "    </tr>\n",
       "    <tr>\n",
       "      <th>6310</th>\n",
       "      <td>5881</td>\n",
       "      <td>City</td>\n",
       "      <td>NaN</td>\n",
       "      <td>No Cars Available</td>\n",
       "      <td>2016-07-15 09:36:17</td>\n",
       "      <td>NaT</td>\n",
       "      <td>9</td>\n",
       "      <td>15</td>\n",
       "      <td>Morning_Rush</td>\n",
       "    </tr>\n",
       "    <tr>\n",
       "      <th>6311</th>\n",
       "      <td>5889</td>\n",
       "      <td>City</td>\n",
       "      <td>NaN</td>\n",
       "      <td>No Cars Available</td>\n",
       "      <td>2016-07-15 09:38:50</td>\n",
       "      <td>NaT</td>\n",
       "      <td>9</td>\n",
       "      <td>15</td>\n",
       "      <td>Morning_Rush</td>\n",
       "    </tr>\n",
       "  </tbody>\n",
       "</table>\n",
       "<p>2103 rows × 9 columns</p>\n",
       "</div>"
      ],
      "text/plain": [
       "      Request id Pickup point  Driver id             Status  \\\n",
       "2           1807         City        1.0     Trip Completed   \n",
       "4           3112         City        1.0     Trip Completed   \n",
       "6           4270      Airport        1.0     Trip Completed   \n",
       "7           5510      Airport        1.0     Trip Completed   \n",
       "9            267         City        2.0     Trip Completed   \n",
       "...          ...          ...        ...                ...   \n",
       "6307        5863         City        NaN  No Cars Available   \n",
       "6308        5882         City        NaN  No Cars Available   \n",
       "6309        5885         City        NaN  No Cars Available   \n",
       "6310        5881         City        NaN  No Cars Available   \n",
       "6311        5889         City        NaN  No Cars Available   \n",
       "\n",
       "       Request timestamp      Drop timestamp  req_hour  req_day      Timeslot  \n",
       "2    2016-07-12 09:17:00 2016-07-12 09:58:00         9       12  Morning_Rush  \n",
       "4    2016-07-13 08:33:16 2016-07-13 09:25:47         8       13  Morning_Rush  \n",
       "6    2016-07-14 06:15:32 2016-07-14 07:13:15         6       14  Morning_Rush  \n",
       "7    2016-07-15 05:11:52 2016-07-15 06:07:52         5       15  Morning_Rush  \n",
       "9    2016-07-11 06:46:00 2016-07-11 07:25:00         6       11  Morning_Rush  \n",
       "...                  ...                 ...       ...      ...           ...  \n",
       "6307 2016-07-15 09:15:16                 NaT         9       15  Morning_Rush  \n",
       "6308 2016-07-15 09:32:02                 NaT         9       15  Morning_Rush  \n",
       "6309 2016-07-15 09:34:14                 NaT         9       15  Morning_Rush  \n",
       "6310 2016-07-15 09:36:17                 NaT         9       15  Morning_Rush  \n",
       "6311 2016-07-15 09:38:50                 NaT         9       15  Morning_Rush  \n",
       "\n",
       "[2103 rows x 9 columns]"
      ]
     },
     "execution_count": 146,
     "metadata": {},
     "output_type": "execute_result"
    }
   ],
   "source": [
    "df_morning_rush"
   ]
  },
  {
   "cell_type": "code",
   "execution_count": 147,
   "id": "4599b56e",
   "metadata": {},
   "outputs": [
    {
     "data": {
      "text/plain": [
       "1677"
      ]
     },
     "execution_count": 147,
     "metadata": {},
     "output_type": "execute_result"
    }
   ],
   "source": [
    "df_morning_rush.loc[(df_morning_rush['Pickup point']=='City')].shape[0]"
   ]
  },
  {
   "cell_type": "code",
   "execution_count": 149,
   "id": "0e159863",
   "metadata": {},
   "outputs": [
    {
     "data": {
      "text/plain": [
       "472"
      ]
     },
     "execution_count": 149,
     "metadata": {},
     "output_type": "execute_result"
    }
   ],
   "source": [
    "df_morning_rush.loc[(df_morning_rush['Pickup point']=='City') & (df_morning_rush['Status']=='Trip Completed')].shape[0]"
   ]
  },
  {
   "cell_type": "code",
   "execution_count": 150,
   "id": "529fa74c",
   "metadata": {},
   "outputs": [
    {
     "data": {
      "text/plain": [
       "426"
      ]
     },
     "execution_count": 150,
     "metadata": {},
     "output_type": "execute_result"
    }
   ],
   "source": [
    "df_morning_rush.loc[(df_morning_rush[\"Pickup point\"]==\"Airport\")].shape[0]"
   ]
  },
  {
   "cell_type": "code",
   "execution_count": 151,
   "id": "5c2b853b",
   "metadata": {},
   "outputs": [
    {
     "data": {
      "text/plain": [
       "382"
      ]
     },
     "execution_count": 151,
     "metadata": {},
     "output_type": "execute_result"
    }
   ],
   "source": [
    "df_morning_rush.loc[(df_morning_rush[\"Pickup point\"]==\"Airport\") & (df_morning_rush['Status']=='Trip Completed')].shape[0]"
   ]
  },
  {
   "cell_type": "markdown",
   "id": "8a90009b",
   "metadata": {},
   "source": [
    "# Supply and Demand for evening rush"
   ]
  },
  {
   "cell_type": "code",
   "execution_count": 152,
   "id": "71cd68d0",
   "metadata": {},
   "outputs": [],
   "source": [
    "df_evening_rush=df[df['Timeslot']=='Evening_Rush']"
   ]
  },
  {
   "cell_type": "code",
   "execution_count": 154,
   "id": "3c983148",
   "metadata": {},
   "outputs": [
    {
     "data": {
      "text/plain": [
       "2342"
      ]
     },
     "execution_count": 154,
     "metadata": {},
     "output_type": "execute_result"
    }
   ],
   "source": [
    "df_evening_rush.shape[0]"
   ]
  },
  {
   "cell_type": "code",
   "execution_count": 155,
   "id": "6b106e60",
   "metadata": {},
   "outputs": [],
   "source": [
    "df_city_cancelled=df_evening_rush.loc[(df_evening_rush[\"Pickup point\"]==\"City\") & (df_evening_rush[\"Status\"]==\"Cancelled\")]"
   ]
  },
  {
   "cell_type": "code",
   "execution_count": 157,
   "id": "0c891037",
   "metadata": {},
   "outputs": [
    {
     "data": {
      "text/plain": [
       "60"
      ]
     },
     "execution_count": 157,
     "metadata": {},
     "output_type": "execute_result"
    }
   ],
   "source": [
    "df_city_cancelled.shape[0]"
   ]
  },
  {
   "cell_type": "code",
   "execution_count": 158,
   "id": "33523b37",
   "metadata": {},
   "outputs": [
    {
     "data": {
      "text/plain": [
       "<AxesSubplot:xlabel='Pickup point', ylabel='count'>"
      ]
     },
     "execution_count": 158,
     "metadata": {},
     "output_type": "execute_result"
    },
    {
     "data": {
      "image/png": "[encoded data removed]",
      "text/plain": [
       "<Figure size 432x288 with 1 Axes>"
      ]
     },
     "metadata": {
      "needs_background": "light"
     },
     "output_type": "display_data"
    }
   ],
   "source": [
    "sns.countplot(x=\"Pickup point\",hue=\"Status\",data=df_evening_rush)"
   ]
  },
  {
   "cell_type": "code",
   "execution_count": 160,
   "id": "cc1053c3",
   "metadata": {},
   "outputs": [
    {
     "data": {
      "text/plain": [
       "No Cars Available    1392\n",
       "Trip Completed        784\n",
       "Cancelled             166\n",
       "Name: Status, dtype: int64"
      ]
     },
     "execution_count": 160,
     "metadata": {},
     "output_type": "execute_result"
    }
   ],
   "source": [
    "df_evening_rush['Status'].value_counts()"
   ]
  },
  {
   "cell_type": "code",
   "execution_count": 164,
   "id": "85b23976",
   "metadata": {},
   "outputs": [
    {
     "data": {
      "text/plain": [
       "542"
      ]
     },
     "execution_count": 164,
     "metadata": {},
     "output_type": "execute_result"
    }
   ],
   "source": [
    "df_evening_rush.loc[(df_evening_rush['Pickup point']=='City')].shape[0]"
   ]
  },
  {
   "cell_type": "code",
   "execution_count": 166,
   "id": "7c07e2ce",
   "metadata": {},
   "outputs": [
    {
     "data": {
      "text/plain": [
       "411"
      ]
     },
     "execution_count": 166,
     "metadata": {},
     "output_type": "execute_result"
    }
   ],
   "source": [
    "df_evening_rush.loc[(df_evening_rush['Pickup point']=='City') & (df_evening_rush['Status']=='Trip Completed')].shape[0]"
   ]
  },
  {
   "cell_type": "code",
   "execution_count": 170,
   "id": "60e6484d",
   "metadata": {},
   "outputs": [
    {
     "data": {
      "text/plain": [
       "1800"
      ]
     },
     "execution_count": 170,
     "metadata": {},
     "output_type": "execute_result"
    }
   ],
   "source": [
    "df_evening_rush.loc[(df_evening_rush['Pickup point']=='Airport')].shape[0]"
   ]
  },
  {
   "cell_type": "code",
   "execution_count": 171,
   "id": "3d136e07",
   "metadata": {},
   "outputs": [
    {
     "data": {
      "text/plain": [
       "373"
      ]
     },
     "execution_count": 171,
     "metadata": {},
     "output_type": "execute_result"
    }
   ],
   "source": [
    "df_evening_rush.loc[(df_evening_rush['Pickup point']=='Airport') & (df_evening_rush['Status']=='Trip Completed')].shape[0]"
   ]
  },
  {
   "cell_type": "markdown",
   "id": "ef1714cb",
   "metadata": {},
   "source": [
    "# Severity problem at each location by looking at cancellation of cabs in each of the pickup location"
   ]
  },
  {
   "cell_type": "code",
   "execution_count": 172,
   "id": "25c8c7f9",
   "metadata": {},
   "outputs": [
    {
     "data": {
      "text/plain": [
       "60"
      ]
     },
     "execution_count": 172,
     "metadata": {},
     "output_type": "execute_result"
    }
   ],
   "source": [
    "df_evening_rush.loc[(df_evening_rush['Pickup point']=='City') & (df_evening_rush['Status']=='Cancelled')].shape[0]"
   ]
  },
  {
   "cell_type": "code",
   "execution_count": 173,
   "id": "6383b400",
   "metadata": {},
   "outputs": [
    {
     "data": {
      "text/plain": [
       "106"
      ]
     },
     "execution_count": 173,
     "metadata": {},
     "output_type": "execute_result"
    }
   ],
   "source": [
    "df_evening_rush.loc[(df_evening_rush['Pickup point']=='Airport') & (df_evening_rush['Status']=='Cancelled')].shape[0]"
   ]
  },
  {
   "cell_type": "markdown",
   "id": "ed4360fd",
   "metadata": {},
   "source": [
    "# Severity of problem by location in morning rush"
   ]
  },
  {
   "cell_type": "code",
   "execution_count": 175,
   "id": "37c6474e",
   "metadata": {},
   "outputs": [
    {
     "data": {
      "text/plain": [
       "820"
      ]
     },
     "execution_count": 175,
     "metadata": {},
     "output_type": "execute_result"
    }
   ],
   "source": [
    "df_morning_rush.loc[(df_morning_rush[\"Pickup point\"]==\"City\") & (df_morning_rush[\"Status\"]==\"Cancelled\")].shape[0]"
   ]
  },
  {
   "cell_type": "code",
   "execution_count": 174,
   "id": "f64882b5",
   "metadata": {},
   "outputs": [
    {
     "data": {
      "text/plain": [
       "23"
      ]
     },
     "execution_count": 174,
     "metadata": {},
     "output_type": "execute_result"
    }
   ],
   "source": [
    "df_morning_rush.loc[(df_morning_rush[\"Pickup point\"]==\"Airport\") & (df_morning_rush[\"Status\"]==\"Cancelled\")].shape[0]"
   ]
  },
  {
   "cell_type": "markdown",
   "id": "0d9329e3",
   "metadata": {},
   "source": [
    "#Pie Chart "
   ]
  },
  {
   "cell_type": "code",
   "execution_count": 189,
   "id": "0e3862ee",
   "metadata": {},
   "outputs": [],
   "source": [
    "df_morning_city=df.loc[(df['Pickup point']=='City') & (df['Timeslot']=='Morning_Rush')]"
   ]
  },
  {
   "cell_type": "code",
   "execution_count": 190,
   "id": "e0d2e7c0",
   "metadata": {},
   "outputs": [],
   "source": [
    "df_morning_city_counts=pd.DataFrame(df_morning_city['Status'].value_counts())"
   ]
  },
  {
   "cell_type": "code",
   "execution_count": 191,
   "id": "e8f38f01",
   "metadata": {},
   "outputs": [
    {
     "data": {
      "text/html": [
       "<div>\n",
       "<style scoped>\n",
       "    .dataframe tbody tr th:only-of-type {\n",
       "        vertical-align: middle;\n",
       "    }\n",
       "\n",
       "    .dataframe tbody tr th {\n",
       "        vertical-align: top;\n",
       "    }\n",
       "\n",
       "    .dataframe thead th {\n",
       "        text-align: right;\n",
       "    }\n",
       "</style>\n",
       "<table border=\"1\" class=\"dataframe\">\n",
       "  <thead>\n",
       "    <tr style=\"text-align: right;\">\n",
       "      <th></th>\n",
       "      <th>Status</th>\n",
       "    </tr>\n",
       "  </thead>\n",
       "  <tbody>\n",
       "    <tr>\n",
       "      <th>Cancelled</th>\n",
       "      <td>820</td>\n",
       "    </tr>\n",
       "    <tr>\n",
       "      <th>Trip Completed</th>\n",
       "      <td>472</td>\n",
       "    </tr>\n",
       "    <tr>\n",
       "      <th>No Cars Available</th>\n",
       "      <td>385</td>\n",
       "    </tr>\n",
       "  </tbody>\n",
       "</table>\n",
       "</div>"
      ],
      "text/plain": [
       "                   Status\n",
       "Cancelled             820\n",
       "Trip Completed        472\n",
       "No Cars Available     385"
      ]
     },
     "execution_count": 191,
     "metadata": {},
     "output_type": "execute_result"
    }
   ],
   "source": [
    "df_morning_city_counts"
   ]
  },
  {
   "cell_type": "code",
   "execution_count": 185,
   "id": "0eb795bf",
   "metadata": {},
   "outputs": [
    {
     "data": {
      "text/plain": [
       "array([411,  71,  60], dtype=int64)"
      ]
     },
     "execution_count": 185,
     "metadata": {},
     "output_type": "execute_result"
    }
   ],
   "source": [
    "df_morning_city_counts['Status'].values"
   ]
  },
  {
   "cell_type": "code",
   "execution_count": 192,
   "id": "571e761e",
   "metadata": {},
   "outputs": [
    {
     "data": {
      "text/plain": [
       "Index(['Cancelled', 'Trip Completed', 'No Cars Available'], dtype='object')"
      ]
     },
     "execution_count": 192,
     "metadata": {},
     "output_type": "execute_result"
    }
   ],
   "source": [
    "df_morning_city_counts['Status'].index"
   ]
  },
  {
   "cell_type": "code",
   "execution_count": null,
   "id": "148579b3",
   "metadata": {},
   "outputs": [],
   "source": []
  },
  {
   "cell_type": "code",
   "execution_count": 193,
   "id": "6b3bce8c",
   "metadata": {},
   "outputs": [
    {
     "data": {
      "image/png": "[encoded data removed]",
      "text/plain": [
       "<Figure size 432x288 with 1 Axes>"
      ]
     },
     "metadata": {},
     "output_type": "display_data"
    }
   ],
   "source": [
    "fig,ax=plt.subplots()\n",
    "ax.pie(df_morning_city_counts['Status'].values,labels=df_morning_city_counts['Status'].index,autopct='%.2f%%',startangle=90)\n",
    "plt.show()"
   ]
  },
  {
   "cell_type": "code",
   "execution_count": 194,
   "id": "581873e5",
   "metadata": {},
   "outputs": [],
   "source": [
    "df_evening_airport=df.loc[(df['Pickup point']=='Airport') & (df['Timeslot']=='Evening_Rush')]"
   ]
  },
  {
   "cell_type": "code",
   "execution_count": 197,
   "id": "027b03c4",
   "metadata": {},
   "outputs": [],
   "source": [
    "df_evening_airport_counts=pd.DataFrame(df_evening_airport['Status'].value_counts())"
   ]
  },
  {
   "cell_type": "code",
   "execution_count": 198,
   "id": "2a6b3f7c",
   "metadata": {},
   "outputs": [
    {
     "data": {
      "text/html": [
       "<div>\n",
       "<style scoped>\n",
       "    .dataframe tbody tr th:only-of-type {\n",
       "        vertical-align: middle;\n",
       "    }\n",
       "\n",
       "    .dataframe tbody tr th {\n",
       "        vertical-align: top;\n",
       "    }\n",
       "\n",
       "    .dataframe thead th {\n",
       "        text-align: right;\n",
       "    }\n",
       "</style>\n",
       "<table border=\"1\" class=\"dataframe\">\n",
       "  <thead>\n",
       "    <tr style=\"text-align: right;\">\n",
       "      <th></th>\n",
       "      <th>Status</th>\n",
       "    </tr>\n",
       "  </thead>\n",
       "  <tbody>\n",
       "    <tr>\n",
       "      <th>No Cars Available</th>\n",
       "      <td>1321</td>\n",
       "    </tr>\n",
       "    <tr>\n",
       "      <th>Trip Completed</th>\n",
       "      <td>373</td>\n",
       "    </tr>\n",
       "    <tr>\n",
       "      <th>Cancelled</th>\n",
       "      <td>106</td>\n",
       "    </tr>\n",
       "  </tbody>\n",
       "</table>\n",
       "</div>"
      ],
      "text/plain": [
       "                   Status\n",
       "No Cars Available    1321\n",
       "Trip Completed        373\n",
       "Cancelled             106"
      ]
     },
     "execution_count": 198,
     "metadata": {},
     "output_type": "execute_result"
    }
   ],
   "source": [
    "df_evening_airport_counts"
   ]
  },
  {
   "cell_type": "code",
   "execution_count": 199,
   "id": "21aab75f",
   "metadata": {},
   "outputs": [
    {
     "data": {
      "text/plain": [
       "array([1321,  373,  106], dtype=int64)"
      ]
     },
     "execution_count": 199,
     "metadata": {},
     "output_type": "execute_result"
    }
   ],
   "source": [
    "df_evening_airport_counts['Status'].values"
   ]
  },
  {
   "cell_type": "code",
   "execution_count": 201,
   "id": "3446bae6",
   "metadata": {},
   "outputs": [
    {
     "data": {
      "text/plain": [
       "Index(['No Cars Available', 'Trip Completed', 'Cancelled'], dtype='object')"
      ]
     },
     "execution_count": 201,
     "metadata": {},
     "output_type": "execute_result"
    }
   ],
   "source": [
    "df_evening_airport_counts['Status'].index"
   ]
  },
  {
   "cell_type": "code",
   "execution_count": 202,
   "id": "3592916b",
   "metadata": {},
   "outputs": [
    {
     "data": {
      "image/png": "[encoded data removed]",
      "text/plain": [
       "<Figure size 432x288 with 1 Axes>"
      ]
     },
     "metadata": {},
     "output_type": "display_data"
    }
   ],
   "source": [
    "fig,ax=plt.subplots()\n",
    "ax.pie(df_evening_airport_counts['Status'].values,labels=df_evening_airport_counts['Status'].index,autopct='%.2f%%',startangle=90)\n",
    "plt.show()"
   ]
  },
  {
   "cell_type": "code",
   "execution_count": null,
   "id": "72d28268",
   "metadata": {},
   "outputs": [],
   "source": [
    "1.They could be given bonus for each trip they complete from the city to the Airport in the morning rush.\n",
    "This will ensure that less number of trips are cancelled.\n",
    "2.Uber can pay for the gas mileagew of drivers to come back to the city without a ride.\n",
    "3.Driver can again be given bonus to complete a trip from the airport in the evening.\n",
    "This will ensure that the supply increases at the airport.\n",
    "4.Uber can also pay to drivers to come airport without passengers to the airport.\n",
    "5.Another way could be to increases licensesof car pooling taxis so that lesser number of cars can serve more passengers."
   ]
  },
  {
   "cell_type": "code",
   "execution_count": null,
   "id": "8667a78b",
   "metadata": {},
   "outputs": [],
   "source": []
  },
  {
   "cell_type": "code",
   "execution_count": null,
   "id": "447137a4",
   "metadata": {},
   "outputs": [],
   "source": []
  },
  {
   "cell_type": "code",
   "execution_count": null,
   "id": "7fa7a137",
   "metadata": {},
   "outputs": [],
   "source": []
  },
  {
   "cell_type": "code",
   "execution_count": null,
   "id": "1655c202",
   "metadata": {},
   "outputs": [],
   "source": []
  }
 ],
 "metadata": {
  "kernelspec": {
   "display_name": "Python 3",
   "language": "python",
   "name": "python3"
  },
  "language_info": {
   "codemirror_mode": {
    "name": "ipython",
    "version": 3
   },
   "file_extension": ".py",
   "mimetype": "text/x-python",
   "name": "python",
   "nbconvert_exporter": "python",
   "pygments_lexer": "ipython3",
   "version": "3.8.8"
  }
 },
 "nbformat": 4,
 "nbformat_minor": 5
}
